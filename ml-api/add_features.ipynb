{
 "cells": [
  {
   "cell_type": "code",
   "execution_count": 13,
   "metadata": {},
   "outputs": [],
   "source": [
    "import pandas as pd\n",
    "from sklearn.feature_extraction.text import TfidfVectorizer\n",
    "from sklearn.model_selection import train_test_split\n",
    "from sklearn.metrics import accuracy_score\n",
    "import numpy as np\n",
    "from sklearn.pipeline import Pipeline, FeatureUnion\n",
    "from feature_extraction import Blob, Words\n",
    "from sklearn.ensemble import ExtraTreesClassifier, GradientBoostingClassifier\n",
    "from sklearn.naive_bayes import MultinomialNB\n",
    "from sklearn.model_selection import cross_val_score\n",
    "from sklearn.feature_selection import SelectPercentile, f_classif\n",
    "from sklearn.preprocessing import MinMaxScaler, Normalizer\n",
    "from sklearn.decomposition import TruncatedSVD\n",
    "from sklearn.neural_network import MLPClassifier\n",
    "from sklearn.model_selection import GridSearchCV\n",
    "from time import time\n",
    "from pprint import pprint"
   ]
  },
  {
   "cell_type": "code",
   "execution_count": 2,
   "metadata": {},
   "outputs": [],
   "source": [
    "#data = pd.read_csv('processed_posts.csv.bz2')\n",
    "data = pd.read_csv('processed_datascience.csv.bz2', encoding='ISO-8859-1', compression='bz2')\n",
    "data.drop_duplicates('title', inplace=True)\n",
    "\n",
    "data['gt5'] = data['ups'] > 5\n",
    "data['gt20'] = data['ups'] > 20\n",
    "data['gt10'] = data['ups'] > 10\n",
    "data['gt50'] = data['ups'] > 50\n",
    "data['gt100'] = data['ups'] > 100\n",
    "# data['wordcount'] = data['title'].str.split().apply(len)\n",
    "# data['charcount'] = data.title.str.len()\n",
    "# data['vowels'] = data.title.str.findall(r'[aeiou]').apply(len)\n",
    "# data['consonants'] = data.title.str.findall(r'[^aeiou]').apply(len)\n",
    "\n",
    "#data = data[data['subreddit'] == 'r/books']\n",
    "train_X, test_X, train_y, test_y = train_test_split(data.title, \n",
    "                                                    data.gt10, \n",
    "                                                    test_size=0.20,\n",
    "                                                    random_state=42)"
   ]
  },
  {
   "cell_type": "code",
   "execution_count": 9,
   "metadata": {},
   "outputs": [
    {
     "name": "stdout",
     "output_type": "stream",
     "text": [
      "(6205, 11)\n",
      "(1898, 11)\n"
     ]
    }
   ],
   "source": [
    "print(data[data['gt10']==False].shape)\n",
    "print(data[data['gt10']==True].shape)"
   ]
  },
  {
   "cell_type": "code",
   "execution_count": 10,
   "metadata": {},
   "outputs": [],
   "source": [
    "pipeline = Pipeline([\n",
    "    ('union', FeatureUnion(\n",
    "        transformer_list=[\n",
    "                      \n",
    "            ('words', Words()),\n",
    "                      \n",
    "            ('title', Pipeline([\n",
    "                ('tfidf', TfidfVectorizer(ngram_range=(1,3), sublinear_tf=True, stop_words='english')),\n",
    "                ('svd', TruncatedSVD(n_components=120)),\n",
    "                ('normalize', MinMaxScaler(copy=False)),\n",
    "                ('selector', SelectPercentile(f_classif, percentile=10))\n",
    "            ])),\n",
    "            \n",
    "            ('blob', Pipeline([\n",
    "                ('all', Blob()),\n",
    "                ('minmax', MinMaxScaler()),\n",
    "            ])),\n",
    "            \n",
    "            ])),\n",
    "    ('clf', ExtraTreesClassifier()),\n",
    "        ])"
   ]
  },
  {
   "cell_type": "code",
   "execution_count": 15,
   "metadata": {},
   "outputs": [],
   "source": [
    "parameters = {\n",
    "    'clf_n_estimators':(120,300,500,800,1200),\n",
    "    'clf__max_depth':(5,8,15,25,30, None),\n",
    "    'clf__min_samples_split':(2,5,10,15,100),\n",
    "    'clf__min_samples_leaf':(1,2,5,10),\n",
    "    'clf__max_features':('log2','sqrt',None),\n",
    "}"
   ]
  },
  {
   "cell_type": "code",
   "execution_count": 16,
   "metadata": {},
   "outputs": [
    {
     "name": "stdout",
     "output_type": "stream",
     "text": [
      "Performing grid search...\n",
      "pipeline: ['union', 'clf']\n",
      "parameters:\n",
      "{'clf__max_depth': (5, 8, 15, 25, 30, None),\n",
      " 'clf__max_features': ('log2', 'sqrt', None),\n",
      " 'clf__min_samples_leaf': (1, 2, 5, 10),\n",
      " 'clf__min_samples_split': (2, 5, 10, 15, 100)}\n",
      "Fitting 3 folds for each of 360 candidates, totalling 1080 fits\n"
     ]
    },
    {
     "name": "stderr",
     "output_type": "stream",
     "text": [
      "[Parallel(n_jobs=-1)]: Done  34 tasks      | elapsed:  3.4min\n",
      "[Parallel(n_jobs=-1)]: Done 184 tasks      | elapsed: 18.9min\n",
      "[Parallel(n_jobs=-1)]: Done 434 tasks      | elapsed: 45.6min\n",
      "[Parallel(n_jobs=-1)]: Done 784 tasks      | elapsed: 82.0min\n",
      "[Parallel(n_jobs=-1)]: Done 1080 out of 1080 | elapsed: 111.9min finished\n"
     ]
    },
    {
     "name": "stdout",
     "output_type": "stream",
     "text": [
      "done in 6728.687s\n",
      "\n",
      "Best score: 0.763\n",
      "Best parameters set:\n",
      "\tclf__max_depth: 5\n",
      "\tclf__max_features: None\n",
      "\tclf__min_samples_leaf: 5\n",
      "\tclf__min_samples_split: 10\n"
     ]
    }
   ],
   "source": [
    "grid_search = GridSearchCV(pipeline, parameters, n_jobs=-1, verbose=1)\n",
    "\n",
    "print(\"Performing grid search...\")\n",
    "print(\"pipeline:\", [name for name, _ in pipeline.steps])\n",
    "print(\"parameters:\")\n",
    "pprint(parameters)\n",
    "t0 = time()\n",
    "grid_search.fit(train_X, train_y)\n",
    "print(\"done in %0.3fs\" % (time() - t0))\n",
    "print()\n",
    "\n",
    "print(\"Best score: %0.3f\" % grid_search.best_score_)\n",
    "print(\"Best parameters set:\")\n",
    "best_parameters = grid_search.best_estimator_.get_params()\n",
    "for param_name in sorted(parameters.keys()):\n",
    "    print(\"\\t%s: %r\" % (param_name, best_parameters[param_name]))"
   ]
  },
  {
   "cell_type": "code",
   "execution_count": 22,
   "metadata": {},
   "outputs": [],
   "source": [
    "y = grid_search.predict(test_X)"
   ]
  },
  {
   "cell_type": "code",
   "execution_count": 23,
   "metadata": {},
   "outputs": [
    {
     "data": {
      "text/plain": [
       "0.78223318938926589"
      ]
     },
     "execution_count": 23,
     "metadata": {},
     "output_type": "execute_result"
    }
   ],
   "source": [
    "accuracy_score(y_pred=y, y_true=test_y)"
   ]
  },
  {
   "cell_type": "code",
   "execution_count": 10,
   "metadata": {
    "scrolled": true
   },
   "outputs": [
    {
     "data": {
      "text/plain": [
       "Pipeline(memory=None,\n",
       "     steps=[('union', FeatureUnion(n_jobs=1,\n",
       "       transformer_list=[('words', Words()), ('title', Pipeline(memory=None,\n",
       "     steps=[('tfidf', TfidfVectorizer(analyzer='word', binary=False, decode_error='strict',\n",
       "        dtype=<class 'numpy.int64'>, encoding='utf-8', input='content',\n",
       "        lowercase=T...      presort='auto', random_state=None, subsample=1.0, verbose=0,\n",
       "              warm_start=False))])"
      ]
     },
     "execution_count": 10,
     "metadata": {},
     "output_type": "execute_result"
    }
   ],
   "source": [
    "pipeline.fit(train_X, train_y)"
   ]
  },
  {
   "cell_type": "code",
   "execution_count": 11,
   "metadata": {},
   "outputs": [
    {
     "data": {
      "text/plain": [
       "0.76681061073411472"
      ]
     },
     "execution_count": 11,
     "metadata": {},
     "output_type": "execute_result"
    }
   ],
   "source": [
    "y = pipeline.predict(test_X)\n",
    "accuracy_score(y_pred=y, y_true=test_y)"
   ]
  },
  {
   "cell_type": "code",
   "execution_count": null,
   "metadata": {
    "scrolled": true
   },
   "outputs": [],
   "source": [
    "cross_val_score(pipeline, train_X, train_y, cv=5)"
   ]
  },
  {
   "cell_type": "code",
   "execution_count": 62,
   "metadata": {},
   "outputs": [
    {
     "name": "stdout",
     "output_type": "stream",
     "text": [
      "b'We shall miss Hans Rosling, but let\\xe2\\x80\\x99s learn from his genius'\n",
      "True\n",
      "False\n"
     ]
    }
   ],
   "source": [
    "index = 2\n",
    "print (test_X.iloc[index])\n",
    "print (test_y.iloc[index])\n",
    "print (y[index])\n",
    "# pipeline.predict(pd.Series(['My Job Search as a PhD Student']))[0]"
   ]
  },
  {
   "cell_type": "code",
   "execution_count": null,
   "metadata": {},
   "outputs": [],
   "source": [
    "data.to_csv('gt_politics.csv', index=False)"
   ]
  },
  {
   "cell_type": "code",
   "execution_count": null,
   "metadata": {},
   "outputs": [],
   "source": [
    "pipeline = Pipeline([\n",
    "    ('union', FeatureUnion(\n",
    "        transformer_list=[\n",
    "                      \n",
    "            ('wordcount', WordCount()),\n",
    "            \n",
    "            ('charcount', CharCount()),\n",
    "            \n",
    "            ('title', TfidfVectorizer(ngram_range=(1,4))),\n",
    "            \n",
    "            ('vowel', Vowels()),\n",
    "            \n",
    "            ('consonants', Consonants()),\n",
    "            \n",
    "            ('polarity', Polarity()),\n",
    "            \n",
    "            ('subjectivity', Subjectivity()),\n",
    "            \n",
    "            ('noun_phrases', Nouns()),\n",
    "            \n",
    "            ])),\n",
    "    ('clf', ExtraTreesClassifier()),\n",
    "        ])"
   ]
  }
 ],
 "metadata": {
  "kernelspec": {
   "display_name": "Python 3",
   "language": "python",
   "name": "python3"
  },
  "language_info": {
   "codemirror_mode": {
    "name": "ipython",
    "version": 3
   },
   "file_extension": ".py",
   "mimetype": "text/x-python",
   "name": "python",
   "nbconvert_exporter": "python",
   "pygments_lexer": "ipython3",
   "version": "3.5.2"
  }
 },
 "nbformat": 4,
 "nbformat_minor": 2
}
