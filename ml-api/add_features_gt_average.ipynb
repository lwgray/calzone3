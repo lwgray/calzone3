{
 "cells": [
  {
   "cell_type": "markdown",
   "metadata": {},
   "source": [
    "### What's in a name?\n",
    "\n",
    "The purpose of the notebook is to describe my efforts to predict whether or not a subreddit post will receive more than the average number of upvotes."
   ]
  },
  {
   "cell_type": "code",
   "execution_count": 1,
   "metadata": {},
   "outputs": [],
   "source": [
    "import pandas as pd\n",
    "import numpy as np\n",
    "from sklearn.feature_extraction.text import TfidfVectorizer\n",
    "from sklearn.model_selection import train_test_split\n",
    "from sklearn.metrics import accuracy_score\n",
    "from sklearn.model_selection import cross_val_score\n",
    "from sklearn.pipeline import Pipeline, FeatureUnion\n",
    "from feature_extraction import Blob, Words\n",
    "from sklearn.naive_bayes import MultinomialNB\n",
    "from sklearn.feature_selection import SelectPercentile, f_classif\n",
    "from sklearn.preprocessing import MinMaxScaler, Normalizer\n",
    "from sklearn.decomposition import TruncatedSVD\n",
    "\n"
   ]
  },
  {
   "cell_type": "markdown",
   "metadata": {},
   "source": [
    "# Steps 1 - 4\n",
    "1.  Reads in csv-formatted subreddit data\n",
    "    1a. You can use the grab_posts function to collect posts inline\n",
    "2.  Remove outliers using z-scores greater than -2.5 and less than 2.5\n",
    "3.  Create Label data (It is the boolean set to whether or not a title will receive more than average number of upvotes )\n",
    "4.  Split data into training and test# "
   ]
  },
  {
   "cell_type": "code",
   "execution_count": 2,
   "metadata": {},
   "outputs": [
    {
     "name": "stdout",
     "output_type": "stream",
     "text": [
      "AVERAGE:  7.52031863311\n"
     ]
    }
   ],
   "source": [
    "#Read in posts\n",
    "#from grab_posts import grab_posts\n",
    "#data = grab_posts(sub='todayilearned', start='01/24/2017', end='01/24/2018', number=30000)\n",
    "data = pd.read_csv('processed_datascience.csv.bz2')\n",
    "\n",
    "\n",
    "## Throw out outliers by including rows with Z-Scores less than 2.5 and greater than -2.5\n",
    "data['z_scores'] = np.abs((data.ups-data.ups.mean())/data.ups.std())\n",
    "data = data[data['z_scores']<= 2.5]\n",
    "\n",
    "# Create Label column defining whether or not the article's upvotes exceed the average vote for the subreddit\n",
    "data['gtavg'] = data.ups > data.ups.mean()\n",
    "\n",
    "train_X, test_X, train_y, test_y = train_test_split(data.title, \n",
    "                                                    data.gtavg, \n",
    "                                                    test_size=0.20,\n",
    "                                                    random_state=25)\n",
    "\n",
    "print('AVERAGE: ', data.ups.mean())"
   ]
  },
  {
   "cell_type": "markdown",
   "metadata": {},
   "source": [
    "# Step 5-6:  \n",
    "The workflow pipeline consists of two segments. The first is feature extraction, decomposition,and reduction. The second is training a classifier.  A reminder, all feature information is derieved from the title of each post\n",
    "5.  Feature Extraction\n",
    "    \n",
    "    1.  Words:\n",
    "            Creates a dataframe containing the number of the following in each title:\n",
    "                1. Consonants\n",
    "                2. Vowels\n",
    "                3. Words\n",
    "                4. Characters\n",
    "    2.  Blobs:\n",
    "            Creates a dataframe containing the following characteristics of each title\n",
    "                1. Noun Phrases\n",
    "                2. Subjectivity - Sentiment Score\n",
    "                3. Polarity - Sentiment Score\n",
    "    3.  Tf-Idf:\n",
    "            Vectorizes text.  Tf-idf creates a word vector in which a word is weighted by it occurence not only in the title it was derived from but also the entire corpus.  It works like this.\n",
    "                1.  Use uni-grams to tri-grams, english stop_words, and sublinear term frequency\n",
    "                2.  TruncatedSVD reduces features through LSA decomposition\n",
    "                3.  SelectPercentile selects the top 10% of features that improve prediction\n",
    "\n",
    "6.  Train Classifier:  MultinomialNB\n",
    "    1.  Choose this classifier for it's speed.  I examine other classifiers and tuned hyperparameters but the results were pretty much the same.\n",
    "    2.  Fit on training data\n",
    "    3.  predict test set\n",
    "    4.  Measure accuracy\n",
    "    5.  Cross validate Score\n",
    "    "
   ]
  },
  {
   "cell_type": "code",
   "execution_count": 3,
   "metadata": {
    "scrolled": true
   },
   "outputs": [
    {
     "data": {
      "text/plain": [
       "0.71148297749567224"
      ]
     },
     "execution_count": 3,
     "metadata": {},
     "output_type": "execute_result"
    }
   ],
   "source": [
    "pipeline = Pipeline([\n",
    "    ('union', FeatureUnion(\n",
    "        transformer_list=[\n",
    "                      \n",
    "            ('words', Words()),\n",
    "                      \n",
    "            ('title', Pipeline([\n",
    "                ('tfidf', TfidfVectorizer(ngram_range=(1,3), sublinear_tf=True, stop_words='english')),\n",
    "                ('svd', TruncatedSVD(n_components=120)),\n",
    "                ('normalize', MinMaxScaler(copy=False)),\n",
    "                ('selector', SelectPercentile(f_classif, percentile=10))\n",
    "            ])),\n",
    "            \n",
    "            ('blob', Pipeline([\n",
    "                ('all', Blob()),\n",
    "                ('minmax', MinMaxScaler()),\n",
    "            ])),\n",
    "            \n",
    "            ])),\n",
    "    ('clf', MultinomialNB()),\n",
    "        ])\n",
    "\n",
    "pipeline.fit(train_X, train_y)\n",
    "\n",
    "y_pred = pipeline.predict(test_X)\n",
    "accuracy_score(y_pred=y_pred, y_true=test_y)\n",
    "\n",
    "#cross_val_score(pipeline, train_X, train_y, cv=5)"
   ]
  },
  {
   "cell_type": "code",
   "execution_count": 6,
   "metadata": {},
   "outputs": [
    {
     "data": {
      "text/plain": [
       "False"
      ]
     },
     "execution_count": 6,
     "metadata": {},
     "output_type": "execute_result"
    }
   ],
   "source": [
    "pipeline.predict(pd.Series([\"According to Glassdoor, Data Scientists are the #1 best job in the US 3 years in a row. Is this true?\"]))[0]"
   ]
  },
  {
   "cell_type": "code",
   "execution_count": null,
   "metadata": {},
   "outputs": [],
   "source": [
    "joblib.dump(pipeline, 'datascience.pkl')"
   ]
  },
  {
   "cell_type": "code",
   "execution_count": 5,
   "metadata": {},
   "outputs": [
    {
     "data": {
      "text/plain": [
       "'\\nfrom sklearn.model_selection import GridSearchCV\\nfrom time import time\\nfrom pprint import pprint\\n\\nparameters = {\\n    \\'clf_n_estimators\\':(120,300,500,800,1200),\\n    \\'clf__max_depth\\':(5,8,15,25,30, None),\\n    \\'clf__min_samples_split\\':(2,5,10,15,100),\\n    \\'clf__min_samples_leaf\\':(1,2,5,10),\\n    \\'clf__max_features\\':(\\'log2\\',\\'sqrt\\',None),\\n}\\n\\ngrid_search = GridSearchCV(pipeline, parameters, n_jobs=-1, verbose=1)\\n\\nprint(\"Performing grid search...\")\\nprint(\"pipeline:\", [name for name, _ in pipeline.steps])\\nprint(\"parameters:\")\\npprint(parameters)\\nt0 = time()\\ngrid_search.fit(train_X, train_y)\\nprint(\"done in %0.3fs\" % (time() - t0))\\nprint()\\n\\nprint(\"Best score: %0.3f\" % grid_search.best_score_)\\nprint(\"Best parameters set:\")\\nbest_parameters = grid_search.best_estimator_.get_params()\\nfor param_name in sorted(parameters.keys()):\\n    print(\"\\t%s: %r\" % (param_name, best_parameters[param_name]))\\n\\n\\ny = grid_search.predict(test_X)\\n\\naccuracy_score(y_pred=y, y_true=test_y)\\n'"
      ]
     },
     "execution_count": 5,
     "metadata": {},
     "output_type": "execute_result"
    }
   ],
   "source": [
    "'''\n",
    "from sklearn.model_selection import GridSearchCV\n",
    "from time import time\n",
    "from pprint import pprint\n",
    "\n",
    "parameters = {\n",
    "    'clf_n_estimators':(120,300,500,800,1200),\n",
    "    'clf__max_depth':(5,8,15,25,30, None),\n",
    "    'clf__min_samples_split':(2,5,10,15,100),\n",
    "    'clf__min_samples_leaf':(1,2,5,10),\n",
    "    'clf__max_features':('log2','sqrt',None),\n",
    "}\n",
    "\n",
    "grid_search = GridSearchCV(pipeline, parameters, n_jobs=-1, verbose=1)\n",
    "\n",
    "print(\"Performing grid search...\")\n",
    "print(\"pipeline:\", [name for name, _ in pipeline.steps])\n",
    "print(\"parameters:\")\n",
    "pprint(parameters)\n",
    "t0 = time()\n",
    "grid_search.fit(train_X, train_y)\n",
    "print(\"done in %0.3fs\" % (time() - t0))\n",
    "print()\n",
    "\n",
    "print(\"Best score: %0.3f\" % grid_search.best_score_)\n",
    "print(\"Best parameters set:\")\n",
    "best_parameters = grid_search.best_estimator_.get_params()\n",
    "for param_name in sorted(parameters.keys()):\n",
    "    print(\"\\t%s: %r\" % (param_name, best_parameters[param_name]))\n",
    "\n",
    "\n",
    "y = grid_search.predict(test_X)\n",
    "\n",
    "accuracy_score(y_pred=y, y_true=test_y)\n",
    "'''"
   ]
  },
  {
   "cell_type": "code",
   "execution_count": null,
   "metadata": {},
   "outputs": [],
   "source": []
  }
 ],
 "metadata": {
  "kernelspec": {
   "display_name": "Python 3",
   "language": "python",
   "name": "python3"
  },
  "language_info": {
   "codemirror_mode": {
    "name": "ipython",
    "version": 3
   },
   "file_extension": ".py",
   "mimetype": "text/x-python",
   "name": "python",
   "nbconvert_exporter": "python",
   "pygments_lexer": "ipython3",
   "version": "3.5.2"
  }
 },
 "nbformat": 4,
 "nbformat_minor": 2
}
