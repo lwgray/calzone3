{
 "cells": [
  {
   "cell_type": "code",
   "execution_count": 1,
   "metadata": {},
   "outputs": [],
   "source": [
    "import pandas as pd\n",
    "from sklearn.feature_extraction.text import TfidfVectorizer\n",
    "from sklearn.model_selection import train_test_split\n",
    "from sklearn.metrics import accuracy_score\n",
    "import numpy as np\n",
    "from sklearn.pipeline import Pipeline, FeatureUnion\n",
    "from feature_extraction import Blob, Words\n",
    "from sklearn.ensemble import ExtraTreesClassifier, GradientBoostingClassifier\n",
    "from sklearn.naive_bayes import MultinomialNB\n",
    "from sklearn.model_selection import cross_val_score\n",
    "from sklearn.feature_selection import SelectPercentile, f_classif\n",
    "from sklearn.preprocessing import MinMaxScaler, Normalizer\n",
    "from sklearn.decomposition import TruncatedSVD\n",
    "from sklearn.neural_network import MLPClassifier\n",
    "from sklearn.model_selection import GridSearchCV\n",
    "from time import time\n",
    "from pprint import pprint\n",
    "from gp_test import main"
   ]
  },
  {
   "cell_type": "code",
   "execution_count": 2,
   "metadata": {},
   "outputs": [],
   "source": [
    "data = pd.read_csv('processed_posts.csv.bz2')\n",
    "#data = pd.read_csv('processed_python.csv.bz2', encoding='ISO-8859-1', compression='bz2')\n",
    "#data = main(sub='todayilearned', start='01/24/2017', end='01/24/2018', number=30000)\n",
    "data.title = data.title.astype('str')\n",
    "data.drop_duplicates('title', inplace=True)"
   ]
  },
  {
   "cell_type": "code",
   "execution_count": 3,
   "metadata": {},
   "outputs": [],
   "source": [
    "# data = pd.read_csv('processed_todayilearned.csv.bz2', encoding='ISO-8859-1')\n",
    "data = data[np.abs(data.ups-data.ups.mean())<=(data.ups.std())]\n",
    "\n",
    "data = data[data['subreddit'] == 'r/todayilearned']\n",
    "data['gtavg'] = data['ups'] > data.ups.mean()\n",
    "train_X, test_X, train_y, test_y = train_test_split(data.title, \n",
    "                                                    data.gtavg, \n",
    "                                                    test_size=0.20,\n",
    "                                                    random_state=42)"
   ]
  },
  {
   "cell_type": "code",
   "execution_count": 4,
   "metadata": {},
   "outputs": [
    {
     "name": "stdout",
     "output_type": "stream",
     "text": [
      "False:  81.20558041589892\n",
      "True:  18.794419584101078\n"
     ]
    }
   ],
   "source": [
    "a = data[data['gtavg']==False].shape[0]\n",
    "b = data[data['gtavg']==True].shape[0]\n",
    "print('False: ', (a/(a+b)*100))\n",
    "print('True: ', (b/(a+b)*100))"
   ]
  },
  {
   "cell_type": "code",
   "execution_count": 5,
   "metadata": {},
   "outputs": [],
   "source": [
    "pipeline = Pipeline([\n",
    "    ('union', FeatureUnion(\n",
    "        transformer_list=[\n",
    "                      \n",
    "            ('words', Words()),\n",
    "                      \n",
    "            ('title', Pipeline([\n",
    "                ('tfidf', TfidfVectorizer(ngram_range=(1,3), sublinear_tf=True, stop_words='english')),\n",
    "                ('svd', TruncatedSVD(n_components=120)),\n",
    "                ('normalize', MinMaxScaler(copy=False)),\n",
    "                ('selector', SelectPercentile(f_classif, percentile=10))\n",
    "            ])),\n",
    "            \n",
    "            ('blob', Pipeline([\n",
    "                ('all', Blob()),\n",
    "                ('minmax', MinMaxScaler()),\n",
    "            ])),\n",
    "            \n",
    "            ])),\n",
    "    ('clf', MultinomialNB()),\n",
    "        ])"
   ]
  },
  {
   "cell_type": "code",
   "execution_count": 6,
   "metadata": {
    "scrolled": true
   },
   "outputs": [
    {
     "data": {
      "text/plain": [
       "Pipeline(memory=None,\n",
       "     steps=[('union', FeatureUnion(n_jobs=1,\n",
       "       transformer_list=[('words', Words()), ('title', Pipeline(memory=None,\n",
       "     steps=[('tfidf', TfidfVectorizer(analyzer='word', binary=False, decode_error='strict',\n",
       "        dtype=<class 'numpy.int64'>, encoding='utf-8', input='content',\n",
       "        lowercase=T...    transformer_weights=None)), ('clf', MultinomialNB(alpha=1.0, class_prior=None, fit_prior=True))])"
      ]
     },
     "execution_count": 6,
     "metadata": {},
     "output_type": "execute_result"
    }
   ],
   "source": [
    "pipeline.fit(train_X, train_y)"
   ]
  },
  {
   "cell_type": "code",
   "execution_count": 7,
   "metadata": {},
   "outputs": [
    {
     "data": {
      "text/plain": [
       "0.81973684210526321"
      ]
     },
     "execution_count": 7,
     "metadata": {},
     "output_type": "execute_result"
    }
   ],
   "source": [
    "y = pipeline.predict(test_X)\n",
    "accuracy_score(y_pred=y, y_true=test_y)"
   ]
  },
  {
   "cell_type": "code",
   "execution_count": 8,
   "metadata": {
    "scrolled": true
   },
   "outputs": [
    {
     "data": {
      "text/plain": [
       "array([ 0.80952381,  0.80952381,  0.81054366,  0.81054366,  0.81054366])"
      ]
     },
     "execution_count": 8,
     "metadata": {},
     "output_type": "execute_result"
    }
   ],
   "source": [
    "cross_val_score(pipeline, train_X, train_y, cv=5)"
   ]
  },
  {
   "cell_type": "code",
   "execution_count": 9,
   "metadata": {},
   "outputs": [
    {
     "name": "stdout",
     "output_type": "stream",
     "text": [
      " that other than sugar and water, the main ingredient in Mountain Dew is orange juice.\n",
      "False\n",
      "False\n"
     ]
    },
    {
     "data": {
      "text/plain": [
       "False"
      ]
     },
     "execution_count": 9,
     "metadata": {},
     "output_type": "execute_result"
    }
   ],
   "source": [
    "index = 2\n",
    "print (test_X.iloc[index])\n",
    "print (test_y.iloc[index])\n",
    "print (y[index])\n",
    "pipeline.predict(pd.Series(['Inspiration']))[0]"
   ]
  },
  {
   "cell_type": "code",
   "execution_count": 10,
   "metadata": {},
   "outputs": [
    {
     "data": {
      "text/plain": [
       "'\\nparameters = {\\n    \\'clf_n_estimators\\':(120,300,500,800,1200),\\n    \\'clf__max_depth\\':(5,8,15,25,30, None),\\n    \\'clf__min_samples_split\\':(2,5,10,15,100),\\n    \\'clf__min_samples_leaf\\':(1,2,5,10),\\n    \\'clf__max_features\\':(\\'log2\\',\\'sqrt\\',None),\\n}\\n\\ngrid_search = GridSearchCV(pipeline, parameters, n_jobs=-1, verbose=1)\\n\\nprint(\"Performing grid search...\")\\nprint(\"pipeline:\", [name for name, _ in pipeline.steps])\\nprint(\"parameters:\")\\npprint(parameters)\\nt0 = time()\\ngrid_search.fit(train_X, train_y)\\nprint(\"done in %0.3fs\" % (time() - t0))\\nprint()\\n\\nprint(\"Best score: %0.3f\" % grid_search.best_score_)\\nprint(\"Best parameters set:\")\\nbest_parameters = grid_search.best_estimator_.get_params()\\nfor param_name in sorted(parameters.keys()):\\n    print(\"\\t%s: %r\" % (param_name, best_parameters[param_name]))\\n\\n\\ny = grid_search.predict(test_X)\\n\\naccuracy_score(y_pred=y, y_true=test_y)\\n'"
      ]
     },
     "execution_count": 10,
     "metadata": {},
     "output_type": "execute_result"
    }
   ],
   "source": [
    "\n",
    "'''\n",
    "parameters = {\n",
    "    'clf_n_estimators':(120,300,500,800,1200),\n",
    "    'clf__max_depth':(5,8,15,25,30, None),\n",
    "    'clf__min_samples_split':(2,5,10,15,100),\n",
    "    'clf__min_samples_leaf':(1,2,5,10),\n",
    "    'clf__max_features':('log2','sqrt',None),\n",
    "}\n",
    "\n",
    "grid_search = GridSearchCV(pipeline, parameters, n_jobs=-1, verbose=1)\n",
    "\n",
    "print(\"Performing grid search...\")\n",
    "print(\"pipeline:\", [name for name, _ in pipeline.steps])\n",
    "print(\"parameters:\")\n",
    "pprint(parameters)\n",
    "t0 = time()\n",
    "grid_search.fit(train_X, train_y)\n",
    "print(\"done in %0.3fs\" % (time() - t0))\n",
    "print()\n",
    "\n",
    "print(\"Best score: %0.3f\" % grid_search.best_score_)\n",
    "print(\"Best parameters set:\")\n",
    "best_parameters = grid_search.best_estimator_.get_params()\n",
    "for param_name in sorted(parameters.keys()):\n",
    "    print(\"\\t%s: %r\" % (param_name, best_parameters[param_name]))\n",
    "\n",
    "\n",
    "y = grid_search.predict(test_X)\n",
    "\n",
    "accuracy_score(y_pred=y, y_true=test_y)\n",
    "'''"
   ]
  },
  {
   "cell_type": "code",
   "execution_count": null,
   "metadata": {},
   "outputs": [],
   "source": []
  }
 ],
 "metadata": {
  "kernelspec": {
   "display_name": "Python 3",
   "language": "python",
   "name": "python3"
  },
  "language_info": {
   "codemirror_mode": {
    "name": "ipython",
    "version": 3
   },
   "file_extension": ".py",
   "mimetype": "text/x-python",
   "name": "python",
   "nbconvert_exporter": "python",
   "pygments_lexer": "ipython3",
   "version": "3.5.2"
  }
 },
 "nbformat": 4,
 "nbformat_minor": 2
}
