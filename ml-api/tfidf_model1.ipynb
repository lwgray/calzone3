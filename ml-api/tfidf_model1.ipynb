{
 "cells": [
  {
   "cell_type": "code",
   "execution_count": 1,
   "metadata": {
    "collapsed": true
   },
   "outputs": [],
   "source": [
    "import pandas as pd\n",
    "import numpy as np\n",
    "from sklearn.feature_extraction.text import CountVectorizer\n",
    "from sklearn.feature_extraction.text import TfidfTransformer\n",
    "from sklearn.naive_bayes import MultinomialNB\n",
    "import matplotlib.pyplot as plt\n",
    "%matplotlib inline\n",
    "from sklearn.metrics import classification_report, f1_score, accuracy_score, confusion_matrix\n",
    "from sklearn.cross_validation import StratifiedKFold, cross_val_score, train_test_split\n",
    "from sklearn.pipeline import Pipeline\n",
    "from sklearn.grid_search import GridSearchCV\n",
    "from sklearn.svm import SVC, LinearSVC\n",
    "from sklearn.linear_model import LinearRegression, LogisticRegression, Ridge, Lasso, SGDRegressor\n",
    "from sklearn.decomposition import TruncatedSVD\n",
    "from sklearn.pipeline import make_pipeline\n",
    "from sklearn.preprocessing import Normalizer\n",
    "from sklearn.ensemble import ExtraTreesClassifier\n",
    "from sklearn.externals import joblib\n",
    "import pickle"
   ]
  },
  {
   "cell_type": "code",
   "execution_count": 2,
   "metadata": {
    "collapsed": true
   },
   "outputs": [],
   "source": [
    "data = pd.read_csv('data.csv',escapechar=\"\\\\\")"
   ]
  },
  {
   "cell_type": "code",
   "execution_count": 3,
   "metadata": {
    "collapsed": true
   },
   "outputs": [],
   "source": [
    "data_sub = data[['title', 'ups']]"
   ]
  },
  {
   "cell_type": "code",
   "execution_count": 4,
   "metadata": {
    "collapsed": false
   },
   "outputs": [],
   "source": [
    "data_sub = data_sub[np.abs((data_sub.ups - data_sub.ups.mean()) <=(2*data_sub.ups.std()))]\n",
    "msk = np.random.rand(len(data_sub)) < 0.8\n",
    "train_set = data_sub[msk]\n",
    "test_set = data_sub[~msk]\n",
    "test_titles = test_set['title']\n",
    "test_labels = test_set['ups']\n",
    "train_titles = train_set['title']\n",
    "train_labels = train_set['ups']"
   ]
  },
  {
   "cell_type": "code",
   "execution_count": 5,
   "metadata": {
    "collapsed": false
   },
   "outputs": [],
   "source": [
    "count_vectorizer = CountVectorizer()\n",
    "bow_transformer = count_vectorizer.fit(train_titles)\n",
    "pickle.dump(bow_transformer, open('bow_transformer_v1.pkl', 'wb'), protocol=2)\n",
    "train_titles_bow = bow_transformer.transform(train_titles)\n",
    "test_titles_bow = bow_transformer.transform(test_titles)"
   ]
  },
  {
   "cell_type": "code",
   "execution_count": 6,
   "metadata": {
    "collapsed": false
   },
   "outputs": [],
   "source": [
    "tfidf_transformer = TfidfTransformer().fit(train_titles_bow)\n",
    "pickle.dump(tfidf_transformer, open('tfidf_transformer_v1.pkl','wb'), protocol=2)\n",
    "train_titles_tfidf = tfidf_transformer.transform(train_titles_bow)\n",
    "test_titles_tfidf = tfidf_transformer.transform(test_titles_bow)"
   ]
  },
  {
   "cell_type": "code",
   "execution_count": 7,
   "metadata": {
    "collapsed": false
   },
   "outputs": [],
   "source": [
    "svd = TruncatedSVD()\n",
    "lsa = make_pipeline(svd, Normalizer(copy=False))\n",
    "X_train_lsa = lsa.fit_transform(train_titles_tfidf)\n",
    "pickle.dump(lsa, open('lsa_v1.pkl', 'wb'), protocol=2)\n",
    "X_test_lsa = lsa.transform(test_titles_tfidf)\n"
   ]
  },
  {
   "cell_type": "code",
   "execution_count": 8,
   "metadata": {
    "collapsed": false,
    "scrolled": true
   },
   "outputs": [],
   "source": [
    "reg = Ridge()\n",
    "reg.fit(X_train_lsa, train_labels)\n",
    "\n",
    "\n",
    "train_predictions = reg.predict(X_train_lsa)\n",
    "test_predictions = reg.predict(X_test_lsa)\n",
    "score = reg.score(X_test_lsa, test_labels)"
   ]
  },
  {
   "cell_type": "code",
   "execution_count": 9,
   "metadata": {
    "collapsed": false
   },
   "outputs": [],
   "source": [
    "pickle.dump(reg, open('prediction_model_v1.pkl','wb'), protocol=2)"
   ]
  },
  {
   "cell_type": "code",
   "execution_count": 10,
   "metadata": {
    "collapsed": false
   },
   "outputs": [
    {
     "data": {
      "text/plain": [
       "array([-422.0925304 , -418.55767351, -426.90402787])"
      ]
     },
     "execution_count": 10,
     "metadata": {},
     "output_type": "execute_result"
    }
   ],
   "source": [
    "cross_val_score(reg,X_train_lsa, train_labels, scoring='mean_absolute_error')"
   ]
  },
  {
   "cell_type": "code",
   "execution_count": 11,
   "metadata": {
    "collapsed": true
   },
   "outputs": [],
   "source": [
    "def apply(input):\n",
    "    path1 = \"bow_transformer_v1.pkl\"\n",
    "    path2 = \"tfidf_transformer_v1.pkl\"\n",
    "    path3 = \"lsa_v1.pkl\"\n",
    "    path4 = \"prediction_model_v1.pkl\"\n",
    "    bow = pickle.load(open(path1, 'rb'))\n",
    "    bow_tf = bow.transform([input])\n",
    "    tfidf = pickle.load(open(path2,'rb'))\n",
    "    tfidf_tf = tfidf.transform(bow_tf)\n",
    "    lsa = pickle.load(open(path3,'rb'))\n",
    "    lsa_tf = lsa.transform(tfidf_tf)\n",
    "    model4 = pickle.load(open(path4,'rb'))\n",
    "    prediction = model4.predict(lsa_tf).tolist()\n",
    "    return prediction"
   ]
  },
  {
   "cell_type": "code",
   "execution_count": 12,
   "metadata": {
    "collapsed": false
   },
   "outputs": [
    {
     "data": {
      "text/plain": [
       "[262.11170429776087]"
      ]
     },
     "execution_count": 12,
     "metadata": {},
     "output_type": "execute_result"
    }
   ],
   "source": [
    "apply(\"Donald Trump defends paper towels in Puerto Rico, says Stephen Paddock was ‘probably smart’ in bizarre TV interview: Analysis\")"
   ]
  },
  {
   "cell_type": "code",
   "execution_count": 13,
   "metadata": {
    "collapsed": false
   },
   "outputs": [
    {
     "name": "stdout",
     "output_type": "stream",
     "text": [
      "0\n",
      "[ 0.90090188  0.43402282]\n"
     ]
    }
   ],
   "source": [
    "print(train_labels[0])\n",
    "print(X_train_lsa[0])"
   ]
  }
 ],
 "metadata": {
  "anaconda-cloud": {},
  "kernelspec": {
   "display_name": "Python [default]",
   "language": "python",
   "name": "python3"
  },
  "language_info": {
   "codemirror_mode": {
    "name": "ipython",
    "version": 3
   },
   "file_extension": ".py",
   "mimetype": "text/x-python",
   "name": "python",
   "nbconvert_exporter": "python",
   "pygments_lexer": "ipython3",
   "version": "3.5.2"
  }
 },
 "nbformat": 4,
 "nbformat_minor": 2
}
