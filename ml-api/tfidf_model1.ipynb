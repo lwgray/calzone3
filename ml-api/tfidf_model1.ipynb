{
 "cells": [
  {
   "cell_type": "code",
   "execution_count": 21,
   "metadata": {},
   "outputs": [],
   "source": [
    "import pandas as pd\n",
    "import numpy as np\n",
    "from sklearn.feature_extraction.text import CountVectorizer\n",
    "from sklearn.feature_extraction.text import TfidfTransformer\n",
    "import matplotlib.pyplot as plt\n",
    "%matplotlib inline\n",
    "from sklearn.cross_validation import cross_val_score\n",
    "from sklearn.linear_model import Ridge\n",
    "from sklearn.decomposition import TruncatedSVD\n",
    "from sklearn.pipeline import make_pipeline\n",
    "from sklearn.preprocessing import Normalizer\n",
    "from sklearn.externals import joblib\n",
    "import pickle"
   ]
  },
  {
   "cell_type": "code",
   "execution_count": 22,
   "metadata": {},
   "outputs": [],
   "source": [
    "data = pd.read_csv('data.csv',escapechar=\"\\\\\")"
   ]
  },
  {
   "cell_type": "code",
   "execution_count": 23,
   "metadata": {},
   "outputs": [],
   "source": [
    "data_sub = data[['title', 'ups']]"
   ]
  },
  {
   "cell_type": "code",
   "execution_count": 24,
   "metadata": {},
   "outputs": [],
   "source": [
    "# data_sub = data_sub[np.abs((data_sub.ups - data_sub.ups.mean()) <=(2*data_sub.ups.std()))]\n",
    "msk = np.random.rand(len(data_sub)) < 0.8\n",
    "train_set = data_sub[msk]\n",
    "test_set = data_sub[~msk]\n",
    "test_titles = test_set['title']\n",
    "test_labels = test_set['ups']\n",
    "train_titles = train_set['title']\n",
    "train_labels = train_set['ups']"
   ]
  },
  {
   "cell_type": "code",
   "execution_count": 25,
   "metadata": {},
   "outputs": [],
   "source": [
    "count_vectorizer = CountVectorizer(ngram_range=(1,2))\n",
    "bow_transformer = count_vectorizer.fit(train_titles)\n",
    "train_titles_bow = bow_transformer.transform(train_titles)\n",
    "test_titles_bow = bow_transformer.transform(test_titles)"
   ]
  },
  {
   "cell_type": "code",
   "execution_count": 26,
   "metadata": {},
   "outputs": [],
   "source": [
    "tfidf_transformer = TfidfTransformer().fit(train_titles_bow)\n",
    "train_titles_tfidf = tfidf_transformer.transform(train_titles_bow)\n",
    "test_titles_tfidf = tfidf_transformer.transform(test_titles_bow)"
   ]
  },
  {
   "cell_type": "code",
   "execution_count": 27,
   "metadata": {},
   "outputs": [],
   "source": [
    "svd = TruncatedSVD()\n",
    "lsa = make_pipeline(svd, Normalizer(copy=False))\n",
    "X_train_lsa = lsa.fit_transform(train_titles_tfidf)\n",
    "X_test_lsa = lsa.transform(test_titles_tfidf)\n"
   ]
  },
  {
   "cell_type": "code",
   "execution_count": 28,
   "metadata": {
    "scrolled": true
   },
   "outputs": [
    {
     "name": "stdout",
     "output_type": "stream",
     "text": [
      "-0.0022917046762\n"
     ]
    }
   ],
   "source": [
    "reg = Ridge(fit_intercept=False)\n",
    "reg.fit(X_train_lsa, train_labels)\n",
    "train_predictions = reg.predict(X_train_lsa)\n",
    "test_predictions = reg.predict(X_test_lsa)\n",
    "score = reg.score(X_test_lsa, test_labels)\n",
    "print(score)"
   ]
  },
  {
   "cell_type": "code",
   "execution_count": 29,
   "metadata": {},
   "outputs": [
    {
     "name": "stdout",
     "output_type": "stream",
     "text": [
      "title    Mnuchin’s military flights exceed $800K\n",
      "ups                                          583\n",
      "Name: 1, dtype: object\n",
      "651.421617415 583\n"
     ]
    }
   ],
   "source": [
    "print(train_set.iloc[0])\n",
    "print(train_predictions[0], train_labels.iloc[0])"
   ]
  },
  {
   "cell_type": "code",
   "execution_count": 30,
   "metadata": {},
   "outputs": [
    {
     "data": {
      "text/plain": [
       "array([-889.43694868, -900.85501907, -886.89341429])"
      ]
     },
     "execution_count": 30,
     "metadata": {},
     "output_type": "execute_result"
    }
   ],
   "source": [
    "cross_val_score(reg,X_train_lsa, train_labels, scoring='neg_mean_absolute_error')"
   ]
  },
  {
   "cell_type": "code",
   "execution_count": 31,
   "metadata": {},
   "outputs": [],
   "source": [
    "pickle.dump(bow_transformer, open('bow_transformer_v1.pkl', 'wb'), protocol=2)\n",
    "pickle.dump(tfidf_transformer, open('tfidf_transformer_v1.pkl','wb'), protocol=2)\n",
    "pickle.dump(lsa, open('lsa_v1.pkl', 'wb'), protocol=2)\n",
    "pickle.dump(reg, open('prediction_model_v1.pkl','wb'), protocol=2)"
   ]
  },
  {
   "cell_type": "code",
   "execution_count": 32,
   "metadata": {},
   "outputs": [],
   "source": [
    "def apply(input):\n",
    "    path1 = \"bow_transformer_v1.pkl\"\n",
    "    path2 = \"tfidf_transformer_v1.pkl\"\n",
    "    path3 = \"lsa_v1.pkl\"\n",
    "    path4 = \"prediction_model_v1.pkl\"\n",
    "    bow = pickle.load(open(path1, 'rb'))\n",
    "    bow_tf = bow.transform([input])\n",
    "    tfidf = pickle.load(open(path2,'rb'))\n",
    "    tfidf_tf = tfidf.transform(bow_tf)\n",
    "    lsa = pickle.load(open(path3,'rb'))\n",
    "    lsa_tf = lsa.transform(tfidf_tf)\n",
    "    model4 = pickle.load(open(path4,'rb'))\n",
    "    prediction = model4.predict(lsa_tf).tolist()\n",
    "    return prediction"
   ]
  },
  {
   "cell_type": "code",
   "execution_count": 33,
   "metadata": {},
   "outputs": [
    {
     "data": {
      "text/plain": [
       "[551.1037753425154]"
      ]
     },
     "execution_count": 33,
     "metadata": {},
     "output_type": "execute_result"
    }
   ],
   "source": [
    "apply(\"Donald Trump defends paper towels in Puerto Rico, says Stephen Paddock was ‘probably smart’ in bizarre TV interview: Analysis\")"
   ]
  }
 ],
 "metadata": {
  "anaconda-cloud": {},
  "kernelspec": {
   "display_name": "Python 3",
   "language": "python",
   "name": "python3"
  },
  "language_info": {
   "codemirror_mode": {
    "name": "ipython",
    "version": 3
   },
   "file_extension": ".py",
   "mimetype": "text/x-python",
   "name": "python",
   "nbconvert_exporter": "python",
   "pygments_lexer": "ipython3",
   "version": "3.6.2"
  }
 },
 "nbformat": 4,
 "nbformat_minor": 2
}
