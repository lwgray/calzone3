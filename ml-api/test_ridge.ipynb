{
 "cells": [
  {
   "cell_type": "code",
   "execution_count": 32,
   "metadata": {},
   "outputs": [],
   "source": [
    "import pandas as pd\n",
    "import numpy as np\n",
    "from sklearn.feature_extraction.text import TfidfVectorizer\n",
    "import matplotlib.pyplot as plt\n",
    "%matplotlib inline\n",
    "from sklearn.linear_model import Ridge, LinearRegression, LogisticRegression, RidgeCV\n",
    "from sklearn.decomposition import TruncatedSVD\n",
    "from sklearn.pipeline import make_pipeline\n",
    "from sklearn.preprocessing import Normalizer\n",
    "from sklearn.model_selection import train_test_split, cross_val_predict\n",
    "from sklearn.svm import LinearSVR\n",
    "from sklearn.metrics import mean_absolute_error, mean_squared_error\n",
    "from sklearn.ensemble import GradientBoostingClassifier\n",
    "from yellowbrick.regressor.residuals import ResidualsPlot, PredictionError\n",
    "from yellowbrick.regressor.alphas import AlphaSelection\n",
    "import pylab \n",
    "import scipy.stats as stats\n",
    "from scipy.stats import norm\n",
    "from sklearn.neural_network import MLPRegressor\n"
   ]
  },
  {
   "cell_type": "code",
   "execution_count": 33,
   "metadata": {},
   "outputs": [
    {
     "data": {
      "text/plain": [
       "802"
      ]
     },
     "execution_count": 33,
     "metadata": {},
     "output_type": "execute_result"
    }
   ],
   "source": [
    "# data = pd.read_csv('data.csv',escapechar=\"\\\\\")\n",
    "data = pd.read_csv('week_politics.csv',escapechar=\"\\\\\")\n",
    "len(data)"
   ]
  },
  {
   "cell_type": "markdown",
   "metadata": {},
   "source": [
    "Data Cleanup, Outlier Removal, Descriptive Statistics"
   ]
  },
  {
   "cell_type": "code",
   "execution_count": 35,
   "metadata": {},
   "outputs": [],
   "source": [
    "data.drop_duplicates('title', inplace=True)"
   ]
  },
  {
   "cell_type": "code",
   "execution_count": 37,
   "metadata": {},
   "outputs": [],
   "source": [
    "data = data[np.abs(data.ups-data.ups.mean())<=(3*data.ups.std())]"
   ]
  },
  {
   "cell_type": "code",
   "execution_count": 41,
   "metadata": {},
   "outputs": [],
   "source": [
    "data_sub = data[['title', 'ups']]\n",
    "data_sub.is_copy = False\n",
    "\n",
    "data_sub['log_ups'] = np.log1p(data_sub['ups'])\n",
    "#data_sub = data_sub[np.abs((data_sub.ups - data_sub.ups.mean()) <=(2*data_sub.ups.std()))]\n",
    "train_titles, test_titles, train_labels, test_labels = train_test_split(data_sub.title, \n",
    "                                                                        data_sub.log_ups, \n",
    "                                                                        test_size=0.20,\n",
    "                                                                        random_state=42)"
   ]
  },
  {
   "cell_type": "code",
   "execution_count": 43,
   "metadata": {},
   "outputs": [
    {
     "data": {
      "image/png": "[encoded data removed]",
      "text/plain": [
       "<matplotlib.figure.Figure at 0xa96dfc6c>"
      ]
     },
     "metadata": {},
     "output_type": "display_data"
    }
   ],
   "source": [
    "#measurements = np.random.normal(loc = 20, scale = 5, size=100)   \n",
    "stats.probplot(data_sub['log_ups'], dist=\"norm\", plot=pylab)\n",
    "pylab.show()"
   ]
  },
  {
   "cell_type": "code",
   "execution_count": 44,
   "metadata": {},
   "outputs": [
    {
     "name": "stdout",
     "output_type": "stream",
     "text": [
      "               ups     log_ups\n",
      "count   653.000000  653.000000\n",
      "mean    507.094946    4.556634\n",
      "std    1260.393013    1.722689\n",
      "min       6.000000    1.945910\n",
      "25%      24.000000    3.218876\n",
      "50%      71.000000    4.276666\n",
      "75%     255.000000    5.545177\n",
      "max    9489.000000    9.157994\n",
      "\n",
      "Number of Titles: \t653\n",
      "Max Length of Title: \t299 characters\n",
      "Avg Length of Title: \t68 characters\n",
      "Max words in Title: \t55 words\n",
      "Avg words in Title: \t10 words\n"
     ]
    },
    {
     "data": {
      "image/png": "[encoded data removed]",
      "text/plain": [
       "<matplotlib.figure.Figure at 0xa992c16c>"
      ]
     },
     "metadata": {},
     "output_type": "display_data"
    }
   ],
   "source": [
    "# Stats for Upvotes\n",
    "print(data_sub.describe())\n",
    "print()\n",
    "# Stats for Titles\n",
    "num_of_titles = len(data_sub['title'])\n",
    "max_len_title = max([len(x) for x in data_sub['title']])\n",
    "avg_len_title = int(np.mean([len(x) for x in data_sub['title']]))\n",
    "max_word_count = max([len(x.split()) for x in data_sub['title']])\n",
    "avg_word_count = int(np.mean([len(x.split()) for x in data_sub['title']]))\n",
    "\n",
    "print('Number of Titles: \\t{0}'.format(num_of_titles))\n",
    "print('Max Length of Title: \\t{0} characters'.format(max_len_title))\n",
    "print('Avg Length of Title: \\t{0} characters'.format(avg_len_title))\n",
    "print('Max words in Title: \\t{0} words'.format(max_word_count))\n",
    "print('Avg words in Title: \\t{0} words'.format(avg_word_count))\n",
    "\n",
    "# Distribution of Upvotes\n",
    "plt.figure(figsize=(12,8))\n",
    "plt.subplot(2,2,1)\n",
    "plt.title('Distribution of Upvotes')\n",
    "plt.hist(data_sub['ups'])\n",
    "plt.xlabel('Upvotes per Post')\n",
    "\n",
    "plt.subplot(2,2,2)\n",
    "plt.title('Log Transformed Distribution of Upvotes')\n",
    "plt.hist(data_sub['log_ups'])\n",
    "plt.xlabel('Upvotes per Post(log)')\n",
    "plt.show()\n"
   ]
  },
  {
   "cell_type": "code",
   "execution_count": 45,
   "metadata": {},
   "outputs": [],
   "source": [
    "tfidf = TfidfVectorizer(ngram_range=(1,2)).fit(train_titles, train_labels)\n",
    "train_titles_tfidf = tfidf.transform(train_titles)\n",
    "test_titles_tfidf = tfidf.transform(test_titles)"
   ]
  },
  {
   "cell_type": "code",
   "execution_count": 46,
   "metadata": {},
   "outputs": [],
   "source": [
    "reg = Ridge()\n",
    "reg.fit(train_titles_tfidf, train_labels)\n",
    "train_predictions = reg.predict(train_titles_tfidf)\n",
    "test_predictions = reg.predict(test_titles_tfidf)"
   ]
  },
  {
   "cell_type": "code",
   "execution_count": 47,
   "metadata": {},
   "outputs": [
    {
     "name": "stdout",
     "output_type": "stream",
     "text": [
      "MAE:  564.966778195\n"
     ]
    }
   ],
   "source": [
    "print('MAE: ', mean_absolute_error(np.expm1(test_predictions), np.expm1(test_labels)))"
   ]
  },
  {
   "cell_type": "code",
   "execution_count": 48,
   "metadata": {},
   "outputs": [
    {
     "data": {
      "image/png": "[encoded data removed]",
      "text/plain": [
       "<matplotlib.figure.Figure at 0xa990372c>"
      ]
     },
     "metadata": {},
     "output_type": "display_data"
    }
   ],
   "source": [
    "plt.scatter(test_labels, test_predictions)\n",
    "plt.xlabel('Actual Votes')\n",
    "plt.ylabel('Predicted Votes')\n",
    "# plt.xscale()\n",
    "# plt.yscale()\n",
    "plt.show()"
   ]
  },
  {
   "cell_type": "code",
   "execution_count": 49,
   "metadata": {},
   "outputs": [],
   "source": [
    "def apply(input):\n",
    "    tf = tfidf.transform([input])\n",
    "    prediction = np.expm1(reg.predict(tf).tolist()[0])\n",
    "    return prediction"
   ]
  },
  {
   "cell_type": "code",
   "execution_count": 53,
   "metadata": {},
   "outputs": [
    {
     "name": "stdout",
     "output_type": "stream",
     "text": [
      "Title:  President Trump’s Lawyer Sues BuzzFeed, Fusion GPS Over Russia Dossier\n",
      "Actual Score:  28.0\n",
      "Predicted Score:  51.4549003497\n"
     ]
    },
    {
     "data": {
      "text/plain": [
       "57.674944566953229"
      ]
     },
     "execution_count": 53,
     "metadata": {},
     "output_type": "execute_result"
    }
   ],
   "source": [
    "index = 20\n",
    "print('Title: ', test_titles.iloc[index])\n",
    "print('Actual Score: ', np.expm1(test_labels.iloc[index]))\n",
    "print('Predicted Score: ', np.expm1(test_predictions[index]))\n",
    "apply(\"Donald Trump attacks UN human rights council for including human rights abusers\")"
   ]
  },
  {
   "cell_type": "code",
   "execution_count": 16,
   "metadata": {},
   "outputs": [
    {
     "name": "stdout",
     "output_type": "stream",
     "text": [
      "117.0\n",
      "22.704366275\n"
     ]
    }
   ],
   "source": [
    "test_titles.iloc[0]\n",
    "print(np.expm1(test_labels.iloc[0]))\n",
    "print(np.expm1(test_predictions[0]))"
   ]
  },
  {
   "cell_type": "code",
   "execution_count": 17,
   "metadata": {},
   "outputs": [],
   "source": [
    "# svd = TruncatedSVD()\n",
    "# lsa = make_pipeline(svd, Normalizer(copy=False))\n",
    "# X_train_lsa = lsa.fit_transform(train_titles_tfidf)\n",
    "# X_test_lsa = lsa.transform(test_titles_tfidf)\n",
    "\n",
    "# reg = Ridge()\n",
    "# reg.fit(X_train_lsa, train_labels)\n",
    "# train_predictions = reg.predict(X_train_lsa)\n",
    "# test_predictions = reg.predict(X_test_lsa)\n",
    "\n",
    "# print('MAE: ', mean_absolute_error(test_predictions, test_labels))\n",
    "# print('Mean Train', np.mean(train_labels))\n",
    "# print('Mean Test', np.mean(test_labels))\n",
    "\n",
    "# plt.scatter(test_labels, test_predictions)\n",
    "# plt.show()"
   ]
  },
  {
   "cell_type": "code",
   "execution_count": 18,
   "metadata": {},
   "outputs": [],
   "source": [
    "# data['created_utc'].head()\n",
    "# from datetime import datetime, timedelta\n",
    "# now = datetime.timestamp(datetime.today())\n",
    "# data['time_elasped'] = (now - data['created_utc'])/86400\n",
    "# # data['time_elasped'] = data['time_elasped']/86400\n",
    "# # print(timedelta(seconds=data['time_elasped'][0]).days)\n",
    "# X_train, X_test, y_train, y_test = train_test_split(data['time_elasped'],\n",
    "#                                                     data['ups'], test_size=0.20,\n",
    "#                                                     random_state=42)\n"
   ]
  },
  {
   "cell_type": "code",
   "execution_count": 19,
   "metadata": {},
   "outputs": [],
   "source": [
    "# tfidf = TfidfVectorizer(analyzer='word', ngram_range=(0,3), stop_words='english').fit(train_titles, train_labels)\n",
    "# train_titles_tfidf = tfidf.transform(train_titles)\n",
    "# test_titles_tfidf = tfidf.transform(test_titles)\n",
    "\n",
    "# reg = GradientBoostingClassifier()\n",
    "# reg.fit(train_titles_tfidf, train_labels)\n",
    "# print(reg.score(test_titles_tfidf, test_labels))\n",
    "# train_predictions = reg.predict(train_titles_tfidf)\n",
    "# test_predictions = reg.predict(test_titles_tfidf)\n",
    "# print(mean_absolute_error(test_predictions, test_labels))\n",
    "\n",
    "# # print(train_set.iloc[0])\n",
    "# print(train_predictions[3], train_labels.iloc[3])\n",
    "# plt.scatter(train_labels, train_predictions)\n",
    "# plt.show()"
   ]
  },
  {
   "cell_type": "code",
   "execution_count": 20,
   "metadata": {},
   "outputs": [],
   "source": [
    "# from __future__ import print_function\n",
    "\n",
    "# from pprint import pprint\n",
    "# from time import time\n",
    "# import logging\n",
    "# from sklearn.pipeline import Pipeline\n",
    "# from sklearn.model_selection import GridSearchCV\n",
    "\n",
    "# pipeline = Pipeline([\n",
    "#     ('tfidf', TfidfVectorizer()),\n",
    "#     ('clf', Ridge()),\n",
    "# ])\n",
    "\n",
    "# parameters = {\n",
    "#     #'tfidf__analyzer':('word', 'char'),\n",
    "#     'tfidf__max_df': (0.5, 0.75, 1.0),\n",
    "#     #'tfidf__stop_words':('english', 'None'),\n",
    "#     'tfidf__ngram_range': ((1,1), (1,2),(0,3)),\n",
    "#     #'tfidf__max_features': (None, 5000, 10000, 50000),\n",
    "#     #'tfidf__norm': ('l1', 'l2'),\n",
    "#     #'tfidf__use_idf': (True, False),\n",
    "#     'clf__alpha': (0.00001, 0.000001),\n",
    "#     #'clf__fit_intercept': (True, False),\n",
    "#     #'clf__normalize':(True, False),\n",
    "#     #'clf__solver':('auto','svd','cholesky','lsqr','sparse_cg','sag','saga'),\n",
    "# }\n",
    "\n",
    "# # find the best parameters for both the feature extraction and the\n",
    "# # classifier\n",
    "# grid_search = GridSearchCV(pipeline, parameters, n_jobs=-1, verbose=1)\n",
    "\n",
    "# print(\"Performing grid search...\")\n",
    "# print(\"pipeline:\", [name for name, _ in pipeline.steps])\n",
    "# print(\"parameters:\")\n",
    "# pprint(parameters)\n",
    "# t0 = time()\n",
    "# grid_search.fit(train_titles, train_labels)\n",
    "# print(\"done in %0.3fs\" % (time() - t0))\n",
    "# print()\n",
    "\n",
    "# print(\"Best score: %0.3f\" % grid_search.best_score_)\n",
    "# print(\"Best parameters set:\")\n",
    "# best_parameters = grid_search.best_estimator_.get_params()\n",
    "# for param_name in sorted(parameters.keys()):\n",
    "#     print(\"\\t%s: %r\" % (param_name, best_parameters[param_name]))"
   ]
  }
 ],
 "metadata": {
  "kernelspec": {
   "display_name": "Python 3",
   "language": "python",
   "name": "python3"
  },
  "language_info": {
   "codemirror_mode": {
    "name": "ipython",
    "version": 3
   },
   "file_extension": ".py",
   "mimetype": "text/x-python",
   "name": "python",
   "nbconvert_exporter": "python",
   "pygments_lexer": "ipython3",
   "version": "3.5.2"
  }
 },
 "nbformat": 4,
 "nbformat_minor": 2
}
