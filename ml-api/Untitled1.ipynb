{
 "cells": [
  {
   "cell_type": "code",
   "execution_count": 65,
   "metadata": {},
   "outputs": [],
   "source": [
    "import pandas as pd\n",
    "import matplotlib.pyplot as plt\n",
    "%matplotlib inline\n",
    "from sklearn.feature_selection import SelectKBest, chi2\n",
    "from textblob import TextBlob"
   ]
  },
  {
   "cell_type": "code",
   "execution_count": 64,
   "metadata": {},
   "outputs": [],
   "source": [
    "data = pd.read_csv('processed_posts.csv')\n",
    "data['wordcount'] = data['title'].str.split().apply(len)\n",
    "data['charcount'] = data.title.str.len()\n",
    "data['vowels'] = data.title.str.findall(r'[aeiou]').apply(len)\n",
    "data['consonants'] = data.title.str.findall(r'[^aeiou]').apply(len)\n",
    "data['target'] = data.ups > 20"
   ]
  },
  {
   "cell_type": "code",
   "execution_count": null,
   "metadata": {},
   "outputs": [],
   "source": [
    "blobs = [TextBlob(sentence) for sentence in data.title]\n",
    "data['polarity'] = [blob.sentiment.polarity for blob in blobs]\n",
    "data['subjectivity'] = [blob.sentiment.subjectivity for blob in blobs]\n",
    "data['noun_phrases'] = [len(blob.noun_phrases) for blob in blobs]"
   ]
  },
  {
   "cell_type": "code",
   "execution_count": 60,
   "metadata": {},
   "outputs": [
    {
     "data": {
      "text/plain": [
       "(253815, 4)"
      ]
     },
     "execution_count": 60,
     "metadata": {},
     "output_type": "execute_result"
    }
   ],
   "source": [
    "X = data[['wordcount', 'charcount', 'vowels', 'consonants',\n",
    "          'polarity', 'subjectivity', 'noun_phrases']]\n",
    "y = data.target\n",
    "X.shape"
   ]
  },
  {
   "cell_type": "code",
   "execution_count": 63,
   "metadata": {},
   "outputs": [
    {
     "data": {
      "text/plain": [
       "array([[ 29,  22],\n",
       "       [ 19,  17],\n",
       "       [ 18,  10],\n",
       "       ..., \n",
       "       [ 47,  35],\n",
       "       [ 53,  41],\n",
       "       [101,  75]], dtype=int64)"
      ]
     },
     "execution_count": 63,
     "metadata": {},
     "output_type": "execute_result"
    }
   ],
   "source": [
    "X_new = SelectKBest(chi2, k=2).fit_transform(X,y)\n",
    "X_new.shape\n",
    "X_new"
   ]
  },
  {
   "cell_type": "code",
   "execution_count": 43,
   "metadata": {},
   "outputs": [
    {
     "data": {
      "image/png": "[encoded data removed]",
      "text/plain": [
       "<matplotlib.figure.Figure at 0xb1171b0c>"
      ]
     },
     "metadata": {},
     "output_type": "display_data"
    }
   ],
   "source": [
    "bins = 125\n",
    "plt.hist(data.consonants, bins=bins, alpha=0.5, label='consonants')\n",
    "plt.hist(data.wordcount, bins=bins, alpha=0.5, label='wordcount')\n",
    "plt.hist(data.vowels, bins=bins, label='vowels', alpha=0.5)\n",
    "plt.hist(data.charcount, bins=bins, label='charcount', alpha=0.5)\n",
    "plt.legend(loc='upper right')\n",
    "plt.show()"
   ]
  }
 ],
 "metadata": {
  "kernelspec": {
   "display_name": "Python 3",
   "language": "python",
   "name": "python3"
  },
  "language_info": {
   "codemirror_mode": {
    "name": "ipython",
    "version": 3
   },
   "file_extension": ".py",
   "mimetype": "text/x-python",
   "name": "python",
   "nbconvert_exporter": "python",
   "pygments_lexer": "ipython3",
   "version": "3.6.2"
  }
 },
 "nbformat": 4,
 "nbformat_minor": 2
}
