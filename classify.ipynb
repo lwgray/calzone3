{
 "cells": [
  {
   "cell_type": "markdown",
   "metadata": {},
   "source": [
    "### What's in a name?\n",
    "\n",
    "The purpose of the notebook is to describe my efforts to predict whether or not a subreddit post will receive more than the average number of upvotes."
   ]
  },
  {
   "cell_type": "code",
   "execution_count": 1,
   "metadata": {},
   "outputs": [],
   "source": [
    "import matplotlib\n",
    "import matplotlib.pyplot as plt\n",
    "%matplotlib inline\n",
    "from IPython.display import display, HTML\n",
    "\n",
    "\n",
    "import pandas as pd\n",
    "import numpy as np\n",
    "\n",
    "from sklearn.feature_extraction.text import TfidfVectorizer\n",
    "from sklearn.model_selection import train_test_split\n",
    "from sklearn.metrics import accuracy_score\n",
    "from sklearn.model_selection import cross_val_score\n",
    "from sklearn.pipeline import Pipeline, FeatureUnion\n",
    "from feature_extraction import Blob, Words\n",
    "from sklearn.naive_bayes import MultinomialNB\n",
    "from sklearn.feature_selection import SelectPercentile, f_classif\n",
    "from sklearn.preprocessing import MinMaxScaler, Normalizer\n",
    "from sklearn.decomposition import TruncatedSVD\n",
    "from sklearn.externals import joblib\n",
    "from sklearn.ensemble import ExtraTreesClassifier\n",
    "\n",
    "from calzone import describe"
   ]
  },
  {
   "cell_type": "markdown",
   "metadata": {},
   "source": [
    "# Steps 1 - 4\n",
    "1.  Reads in csv-formatted subreddit data.  \n",
    "    1a. You can use the grab_posts function to collect posts inline\n",
    "2.  Optional: Data transformation  \n",
    "    2a. Obtain normal distribution of upvotes by applying log transformation.  \n",
    "    2b. Remove outliers using z-scores greater than -2.5 and less than 2.5\n",
    "3.  Create labeled data (It is the boolean set to whether or not a title will receive more than average number of upvotes )\n",
    "4.  Split data into training and test "
   ]
  },
  {
   "cell_type": "code",
   "execution_count": 2,
   "metadata": {},
   "outputs": [
    {
     "name": "stdout",
     "output_type": "stream",
     "text": [
      "AVERAGE UPVOTES:  9.9\n"
     ]
    }
   ],
   "source": [
    "#Read in posts\n",
    "\n",
    "data = pd.read_csv('processed_datascience.csv.bz2')\n",
    "\n",
    "# You can use the grab_posts module if you want to grab posts from specific subreddits and time-frames\n",
    "# To retrieve your own posts requires a reddit developer account\n",
    "#from calzone import grab_posts\n",
    "#data = grab_posts(sub='todayilearned', start='01/24/2018', end='02/05/2018', number=30000, verbose=True)\n",
    "\n",
    "\n",
    "## Optional: Throw out outliers by including rows with Z-Scores less than 2.5 and greater than -2.5\n",
    "#data['z_scores'] = np.abs((data.ups-data.ups.mean())/data.ups.std())\n",
    "#data = data[data['z_scores']<= 2.5]\n",
    "\n",
    "## Optional: Log transformation of up-votes\n",
    "data['log_ups'] = np.log1p(data['ups'])\n",
    "\n",
    "# Create Label column defining whether or not the article's upvotes exceed the average vote for the subreddit\n",
    "data['gtavg'] = data.ups > data.ups.mean()\n",
    "\n",
    "train_X, test_X, train_y, test_y = train_test_split(data.title, \n",
    "                                                    data.gtavg, \n",
    "                                                    test_size=0.20,\n",
    "                                                    random_state=25)\n",
    "\n",
    "print('AVERAGE UPVOTES: ', '{:03.1f}'.format(data.ups.mean()))"
   ]
  },
  {
   "cell_type": "markdown",
   "metadata": {},
   "source": [
    "### Let's take a look at the imported data"
   ]
  },
  {
   "cell_type": "code",
   "execution_count": 3,
   "metadata": {},
   "outputs": [
    {
     "name": "stdout",
     "output_type": "stream",
     "text": [
      "Exploratory Stats for Upvotes\n",
      "count    8856.000000\n",
      "mean        9.870709\n",
      "std        21.516689\n",
      "min         0.000000\n",
      "25%         1.000000\n",
      "50%         4.000000\n",
      "75%         9.000000\n",
      "max       552.000000\n",
      "Name: ups, dtype: float64\n",
      "\n"
     ]
    },
    {
     "data": {
      "image/png": "[encoded data removed]",
      "text/plain": [
       "<matplotlib.figure.Figure at 0x225bae50978>"
      ]
     },
     "metadata": {},
     "output_type": "display_data"
    }
   ],
   "source": [
    "# Stats for Upvotes\n",
    "print('Exploratory Stats for Upvotes')\n",
    "print(data.ups.describe())\n",
    "print()\n",
    "\n",
    "\n",
    "# Distribution of Upvotes\n",
    "plt.figure(figsize=(12,8))\n",
    "plt.subplot(2,2,1)\n",
    "plt.title('Distribution of Upvotes')\n",
    "plt.hist(data['ups'])\n",
    "plt.xlabel('Upvotes per Post')\n",
    "\n",
    "plt.subplot(2,2,2)\n",
    "plt.title('Log Transformed Distribution of Upvotes')\n",
    "plt.hist(data['log_ups'])\n",
    "plt.xlabel('Upvotes per Post(log)')\n",
    "plt.show()\n"
   ]
  },
  {
   "cell_type": "markdown",
   "metadata": {},
   "source": [
    "### Description of Data\n",
    "The table below segments attributes for\n",
    "    1.  All Titles\n",
    "    2.  Only Titles with an Upvotes greater than the average number of upvotes\n",
    "    3.  Only Titles with an Upvotes less than the average number of upvotes\n",
    "\n",
    "The attributes are:\n",
    "    1.  The longest title (characters)\n",
    "    2.  The average length of a title (characters)\n",
    "    3.  The max number of words found in a title\n",
    "    4.  The average number of words in a title\n",
    "    5.  The average number of noun phrases found in titles\n",
    "    6.  The average subjectivity of the titles - ranging from 0(objective) to 1(subjective)\n",
    "    7.  The average polarity of the titles: -1(negative) to 0(neutral) to 1(positive)\n",
    "    8.  The average number of votes per title"
   ]
  },
  {
   "cell_type": "code",
   "execution_count": 4,
   "metadata": {},
   "outputs": [
    {
     "name": "stdout",
     "output_type": "stream",
     "text": [
      "Total Number of Titles in Dataset: 8856\n"
     ]
    },
    {
     "data": {
      "text/html": [
       "<div>\n",
       "<style>\n",
       "    .dataframe thead tr:only-child th {\n",
       "        text-align: right;\n",
       "    }\n",
       "\n",
       "    .dataframe thead th {\n",
       "        text-align: left;\n",
       "    }\n",
       "\n",
       "    .dataframe tbody tr th {\n",
       "        vertical-align: top;\n",
       "    }\n",
       "</style>\n",
       "<table border=\"1\" class=\"dataframe\">\n",
       "  <thead>\n",
       "    <tr style=\"text-align: right;\">\n",
       "      <th></th>\n",
       "      <th>Max_Title</th>\n",
       "      <th>Avg_Title</th>\n",
       "      <th>Max_Word_Count</th>\n",
       "      <th>Avg_Word_Count</th>\n",
       "      <th>Noun_Phrases</th>\n",
       "      <th>Subjectivity</th>\n",
       "      <th>Polarity</th>\n",
       "      <th>Avg_Votes</th>\n",
       "    </tr>\n",
       "  </thead>\n",
       "  <tbody>\n",
       "    <tr>\n",
       "      <th>All</th>\n",
       "      <td>299</td>\n",
       "      <td>58</td>\n",
       "      <td>58</td>\n",
       "      <td>9</td>\n",
       "      <td>2.285117</td>\n",
       "      <td>0.193523</td>\n",
       "      <td>0.078142</td>\n",
       "      <td>9.870709</td>\n",
       "    </tr>\n",
       "    <tr>\n",
       "      <th>Greater_Than_Average</th>\n",
       "      <td>298</td>\n",
       "      <td>61</td>\n",
       "      <td>51</td>\n",
       "      <td>10</td>\n",
       "      <td>2.430000</td>\n",
       "      <td>0.221229</td>\n",
       "      <td>0.092649</td>\n",
       "      <td>30.855909</td>\n",
       "    </tr>\n",
       "    <tr>\n",
       "      <th>Less_Than_Average</th>\n",
       "      <td>299</td>\n",
       "      <td>57</td>\n",
       "      <td>58</td>\n",
       "      <td>9</td>\n",
       "      <td>2.237230</td>\n",
       "      <td>0.184365</td>\n",
       "      <td>0.073346</td>\n",
       "      <td>2.934495</td>\n",
       "    </tr>\n",
       "  </tbody>\n",
       "</table>\n",
       "</div>"
      ],
      "text/plain": [
       "                      Max_Title  Avg_Title  Max_Word_Count  Avg_Word_Count  \\\n",
       "All                         299         58              58               9   \n",
       "Greater_Than_Average        298         61              51              10   \n",
       "Less_Than_Average           299         57              58               9   \n",
       "\n",
       "                      Noun_Phrases  Subjectivity  Polarity  Avg_Votes  \n",
       "All                       2.285117      0.193523  0.078142   9.870709  \n",
       "Greater_Than_Average      2.430000      0.221229  0.092649  30.855909  \n",
       "Less_Than_Average         2.237230      0.184365  0.073346   2.934495  "
      ]
     },
     "metadata": {},
     "output_type": "display_data"
    }
   ],
   "source": [
    "num_of_titles = len(data['title'])\n",
    "print('Total Number of Titles in Dataset:', num_of_titles)\n",
    "results = describe(data) # calzone function to extract title attributes\n",
    "display(results)"
   ]
  },
  {
   "cell_type": "markdown",
   "metadata": {},
   "source": [
    "# Step 5-7:  \n",
    "The workflow pipeline consists of two segments. The first is feature extraction, decomposition,and reduction. The second is training a classifier.  A quick reminder, all feature information is derieved from the title of each post.\n",
    "5.  Feature Extraction\n",
    "    \n",
    "    1.  words:\n",
    "            Creates a dataframe containing the number of the following in each title:\n",
    "                1. Consonants - the number of consonants in each title\n",
    "                2. Vowels - the number of vowels in each title\n",
    "                3. Words - the number of words in each title\n",
    "                4. Characters - the number of characters in each title\n",
    "    2.  blob:\n",
    "            Creates a dataframe containing the following characteristics of each title\n",
    "                1. Noun Phrases - a count of the number of noun phrases in each title\n",
    "                2. Subjectivity - Objectivity vesus Subjectivity(range 0 to 1)\n",
    "                3. Polarity - Negative(-1), Neural(0), or Positive(1) Sentiment(ranging from -1 to 1)\n",
    "    3.  title:\n",
    "            Vectorizes text, decomposes vector, and select features.  \n",
    "                1. Tf-idf\n",
    "                    A. Creates a word vector in which a word is weighted by its occurence not only in the title it was derived from but also the entire corpus.\n",
    "                    B.  Use uni-grams to tri-grams, english stop_words, and sublinear term frequency(tf)\n",
    "                        1.  Sublinear tf: Uses the logarithm of the term frequency instead of simple tf\n",
    "                2.  TruncatedSVD reduces features through LSA decomposition\n",
    "                3.  SelectPercentile selects the top 10% of features that improve prediction\n",
    "\n",
    "6.  Classifier:  ExtraTreesClassifier\n",
    "    1.  I choose this classifier for its speed.  \n",
    "    2.  I examined other classifiers but the results were pretty much the same.  \n",
    "\n",
    "7.  Final Steps\n",
    "    1.  Generate prediction model by fitting on training data\n",
    "    2.  Use model to predict test data labels\n",
    "    3.  Measure prediction accuracy\n",
    "    4.  Cross validate prediction, This is primarily a way of measuring the predictive performance of a statistical model\n",
    "    5.  Improved by tuning hyperparameters, see [here](hyperparameters.ipynb)\n",
    "        1.  However in this instance, tuning only resulted in slight improve (1%)\n",
    "\n",
    "#### *** SPECIAL NOTE ***\n",
    "1.  Collinearity can be used to determine which features to include in analysis (see [here](colinearity.ipynb))\n",
    "    1.  Despite the correlation results, I choose to use all the features described above\n",
    "    "
   ]
  },
  {
   "cell_type": "code",
   "execution_count": 5,
   "metadata": {},
   "outputs": [
    {
     "name": "stdout",
     "output_type": "stream",
     "text": [
      "Accuracy: 73.8%\n"
     ]
    }
   ],
   "source": [
    "# Sklearn has a pipeline Class that directs the flow of model creation; below the pipeline corals the features into the ExtraTrees classifer.\n",
    "# Within the pipeline is a sklearn Class called FeatureUnion.  Feature Union allows for the joining of multiple features into a single vector\n",
    "# Within the feature union is a transformer list containing classes that performed the functions described above\n",
    "# The final pipeline item is the declaration of a classifier that the feature vector will be inserted into\n",
    "\n",
    "pipeline = Pipeline([\n",
    "    ('union', FeatureUnion(\n",
    "        transformer_list=[\n",
    "                      \n",
    "            ('words', Words()),\n",
    "                      \n",
    "            ('title', Pipeline([\n",
    "                ('tfidf', TfidfVectorizer(ngram_range=(1,3), sublinear_tf=True, stop_words='english')),\n",
    "                ('svd', TruncatedSVD(n_components=120)),\n",
    "                ('normalize', MinMaxScaler(copy=False)),\n",
    "                ('selector', SelectPercentile(f_classif, percentile=10))\n",
    "            ])),\n",
    "            \n",
    "            ('blob', Pipeline([\n",
    "                ('all', Blob()),\n",
    "                ('minmax', MinMaxScaler()),\n",
    "            ])),\n",
    "            \n",
    "            ])),\n",
    "    ('clf', ExtraTreesClassifier(n_estimators=120, max_depth=5, max_features='sqrt', min_samples_leaf=5, min_samples_split=10)),\n",
    "        ])\n",
    "\n",
    "# Train model\n",
    "pipeline.fit(train_X, train_y)\n",
    "\n",
    "# Predict Test Set\n",
    "y_pred = pipeline.predict(test_X)\n",
    "\n",
    "# Measure prediction Accuracy\n",
    "accuracy = accuracy_score(y_pred=y_pred, y_true=test_y)\n",
    "print('Accuracy: {:03.1f}%'.format(accuracy * 100))"
   ]
  },
  {
   "cell_type": "code",
   "execution_count": 6,
   "metadata": {},
   "outputs": [],
   "source": [
    "# Cross Validate prediction Score\n",
    "cvs = cross_val_score(pipeline, train_X, train_y, cv=5)"
   ]
  },
  {
   "cell_type": "code",
   "execution_count": 7,
   "metadata": {
    "scrolled": true
   },
   "outputs": [
    {
     "name": "stdout",
     "output_type": "stream",
     "text": [
      "Round 0 : 75.5%\n",
      "Round 1 : 75.5%\n",
      "Round 2 : 75.5%\n",
      "Round 3 : 75.5%\n",
      "Round 4 : 75.5%\n"
     ]
    }
   ],
   "source": [
    "for index, x in enumerate(cvs):\n",
    "    print('Round', index,':', '{:03.1f}%'.format((x*100)))"
   ]
  },
  {
   "cell_type": "code",
   "execution_count": 8,
   "metadata": {},
   "outputs": [
    {
     "data": {
      "text/plain": [
       "False"
      ]
     },
     "execution_count": 8,
     "metadata": {},
     "output_type": "execute_result"
    }
   ],
   "source": [
    "# Test it out\n",
    "pipeline.predict(pd.Series([\"According to Glassdoor, Data Scientists are the #1 best job in the US 3 years in a row. Is this true?\"]))[0]"
   ]
  },
  {
   "cell_type": "code",
   "execution_count": 9,
   "metadata": {},
   "outputs": [
    {
     "data": {
      "text/plain": [
       "['datascience.pkl']"
      ]
     },
     "execution_count": 9,
     "metadata": {},
     "output_type": "execute_result"
    }
   ],
   "source": [
    "# Save our model\n",
    "joblib.dump(pipeline, 'datascience.pkl')"
   ]
  }
 ],
 "metadata": {
  "kernelspec": {
   "display_name": "Python 3",
   "language": "python",
   "name": "python3"
  },
  "language_info": {
   "codemirror_mode": {
    "name": "ipython",
    "version": 3
   },
   "file_extension": ".py",
   "mimetype": "text/x-python",
   "name": "python",
   "nbconvert_exporter": "python",
   "pygments_lexer": "ipython3",
   "version": "3.6.4"
  }
 },
 "nbformat": 4,
 "nbformat_minor": 2
}
