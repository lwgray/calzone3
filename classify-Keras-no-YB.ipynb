{
 "cells": [
  {
   "cell_type": "markdown",
   "metadata": {},
   "source": [
    "## What's in a name? \n",
    "### A tutorial on my machine-learning workflow for predicting whether or not this post will be popular!\n",
    "\n",
    "The purpose of the notebook is to describe my efforts to predict whether or not a post to the /r/datascience subreddit will be a success.  I define success as receiving more than the average number of votes.  What's unique about my methodology is that the prediction is based solely on the title of the redditor's post, hence the blog title: What's in name?.\n",
    "\n",
    "### Caveats\n",
    "Yes, I do know that day and time are powerful predictors of votes(likes,retweets) but I didn't want to confine/limit my prediction to these temporal parameters.  I am also aware that the predictive power of this model is barely good thus suggested improvements woul be greatly appreciated.  I must remind you that this is my first dive into NLP and I might have made careless mistakes and overlooked obvious problems or solutions. Please be kind in your criticism. "
   ]
  },
  {
   "cell_type": "code",
   "execution_count": 2,
   "metadata": {},
   "outputs": [],
   "source": [
    "import matplotlib\n",
    "import matplotlib.pyplot as plt\n",
    "#%matplotlib inline\n",
    "from IPython.display import display, HTML\n",
    "\n",
    "import pandas as pd\n",
    "import numpy as np\n",
    "\n",
    "from sklearn.feature_extraction.text import TfidfVectorizer\n",
    "from sklearn.model_selection import train_test_split\n",
    "from sklearn.metrics import accuracy_score, f1_score\n",
    "from sklearn.model_selection import cross_val_score\n",
    "from sklearn.pipeline import Pipeline, FeatureUnion\n",
    "from feature_extraction import Blob, Words, Exclude, WordCount, POS, Readable\n",
    "from sklearn.naive_bayes import MultinomialNB\n",
    "from sklearn.feature_selection import SelectPercentile, f_classif, SelectFromModel\n",
    "from sklearn.preprocessing import MinMaxScaler, Normalizer\n",
    "from sklearn.decomposition import TruncatedSVD\n",
    "from sklearn.externals import joblib\n",
    "from sklearn.ensemble import ExtraTreesClassifier, RandomForestClassifier\n",
    "from sklearn.preprocessing import LabelEncoder\n",
    "from calzone_keras import describe, lemmatize\n",
    "\n",
    "from keras.models import Sequential\n",
    "from keras.layers import Dense\n",
    "from keras.layers import Dropout\n",
    "from keras.optimizers import SGD\n",
    "from keras.wrappers.scikit_learn import KerasClassifier\n",
    "from sklearn.model_selection import GridSearchCV\n",
    "import numpy\n",
    "import pandas\n",
    "from sklearn.base import BaseEstimator, ClassifierMixin\n",
    "import tensorflow as tf"
   ]
  },
  {
   "cell_type": "markdown",
   "metadata": {},
   "source": [
    "You can install all packages above: 'pip install -r [requirements.txt]({filename}/data/requirements.txt)'"
   ]
  },
  {
   "cell_type": "markdown",
   "metadata": {},
   "source": [
    "# Steps 1 - 4 (tldr)\n",
    "1.  Reads in csv-formatted subreddit data.  \n",
    "    1a. You can use the grab_posts function to collect posts inline\n",
    "2.  Optional: Data manipulation  \n",
    "    2a. Obtain normal distribution of votes by applying log transformation.  \n",
    "    2b. Remove outliers using z-scores greater than -2.5 and less than 2.5\n",
    "3.  Create labeled data (It is the boolean set to whether or not a title will be popular )\n",
    "4.  Split data into training and test "
   ]
  },
  {
   "cell_type": "markdown",
   "metadata": {},
   "source": [
    "### Let's begin!\n",
    "The first step of predicting the success of a post is grabbing [/r/datascience](https://www.reddit.com/r/datascience) submissions.  I provide the a year's worth of [data](processed_datascience.csv.bz2) below however you can grab your own data by using the script [calzone.py](calzone.py) \n",
    "\n",
    "The second step is to clean up the data.  This can include removing characters or changing the case of words in the titles but most importantly it included dealing specifically with the number of votes that each title received.  We noticed that there were votes that were wildly different than the rest.  To handle these anomalies we removed the outliers based on z-scores.  We then log transformed the votes in order to obtain a normal distribution.  In the histogram below you can see that without normalization the number of votes is left-skewed.\n",
    "\n",
    "Thirdly, we specify the target.  The target is the class that is being predicted.  In our case, we are trying to predict whether or not a post receives greater than the average number of votes (SUCCESS!).  For this dataset, the average is 7.5 votes.\n",
    "\n",
    "Fourthly, we split the data into training and test sets.\n",
    "\n",
    "#### *** Side note ***\n",
    "* Use: \"python calzone.py -h\" for explanation of script commands. \n",
    "* Edit: config.praw.ini settings for calzone.py to work."
   ]
  },
  {
   "cell_type": "code",
   "execution_count": 3,
   "metadata": {},
   "outputs": [
    {
     "name": "stdout",
     "output_type": "stream",
     "text": [
      "AVERAGE VOTES:  7.5\n",
      "0    False\n",
      "2     True\n",
      "3     True\n",
      "4     True\n",
      "5    False\n",
      "Name: gtavg, dtype: bool\n"
     ]
    },
    {
     "data": {
      "text/plain": [
       "0    0\n",
       "2    1\n",
       "3    1\n",
       "4    1\n",
       "5    0\n",
       "Name: target, dtype: int64"
      ]
     },
     "execution_count": 3,
     "metadata": {},
     "output_type": "execute_result"
    }
   ],
   "source": [
    "#Read in posts\n",
    "\n",
    "data = pd.read_csv('processed_datascience.csv.bz2')\n",
    "\n",
    "# You can use the grab_posts module if you want to grab posts from specific subreddits and time-frames\n",
    "# To retrieve your own posts requires a reddit developer account\n",
    "#from calzone import grab_posts\n",
    "#data = grab_posts(sub='todayilearned', start='01/24/2018', end='02/05/2018', number=30000, verbose=True)\n",
    "\n",
    "# Data clean - \n",
    "# 1. remove '/' character\n",
    "# 2. lowercase all letters\n",
    "# 3. lemmatize all words - change words to their root words, ie 'wanted -> want'\n",
    "data['title'] = lemmatize(data)\n",
    "\n",
    "\n",
    "## Optional: Throw out outliers by including rows with Z-Scores less than 2.5 and greater than -2.5\n",
    "data['z_scores'] = np.abs((data.ups-data.ups.mean())/data.ups.std())\n",
    "data = data[data['z_scores']<= 2.5]\n",
    "\n",
    "## Optional: Log transformation of up-votes\n",
    "data['log_ups'] = np.log1p(data['ups'])\n",
    "\n",
    "# Create Label column defining whether or not the article's votes exceed the average vote for the subreddit\n",
    "data['gtavg'] = data.log_ups > data.log_ups.mean()\n",
    "data['target'] = LabelEncoder().fit_transform(data.gtavg.values.ravel())\n",
    "\n",
    "train_X, test_X, train_y, test_y = train_test_split(data.title, \n",
    "                                                    data.target, \n",
    "                                                    test_size=0.20,\n",
    "                                                    random_state=25)\n",
    "\n",
    "print('AVERAGE VOTES: ', '{:03.1f}'.format(data.ups.mean()))\n",
    "print(data['gtavg'].head())\n",
    "data['target'].head()"
   ]
  },
  {
   "cell_type": "markdown",
   "metadata": {},
   "source": [
    "#### Let's take a look at the distribution of Votes"
   ]
  },
  {
   "cell_type": "markdown",
   "metadata": {},
   "source": [
    "![UpVote Distribution](images/upvote_dist.png)"
   ]
  },
  {
   "cell_type": "markdown",
   "metadata": {},
   "source": [
    "### Description of Data\n",
    "As discussed in the introduction, We are building a machine learning model so that we cam simply use the title of the post to predict its success.\n",
    "    Our data covers the past 3 years of the /r/datascience subreddit and it contains almost 9000 titles. Below are the features/attributes of the titles that we're analyzing for feature selection.  This is the process by which we determine which attributes are the most informative .  In the table below, we can see that the title of the posts that we considered to be a success are slightly higher across most features.  The most interesting of these features for me were subjectivity, polarity, and noun_phrases because of the variable correlation coefficients (see matrix below).  \n",
    "    \n",
    "The table below segments attributes for:  ** Please note that the table is a summary and shows the average values of each feature\n",
    "    1.  All Titles\n",
    "    2.  Successful Titles (greater than 7 votes)\n",
    "    3.  Unsuccessful Titles (less than or equal to 7 votes)\n",
    "\n",
    "The measured featuress are:  ** The table below shows the average of these features.\n",
    "    \n",
    "    1.  The numbers characters in the titles\n",
    "    2.  The number of words in the titles\n",
    "    3.  The number of noun phrases in the titles\n",
    "    4.  The subjectivity of the titles - ranging from 0(objective) to 1(subjective)\n",
    "    5.  The polarity of the titles: -1(negative) to 0(neutral) to 1(positive)\n",
    "    6.  The number of votes per title\n",
    "    7.  The number of consonants in titles\n",
    "    8.  The number of vowels in titles\n",
    "    9.  The number of syllables in titles\n",
    "    10. The kincaid score of each title (measures the reading grade level required to read the title)\n",
    "    11. The flesch score of each titles (measures how easy it is to read the title)\n",
    "    12. The parts-of-speech(pos) present in each title ( There are 35 pos thus this info isn't included in the table below) \n",
    "    \n",
    "#### *** Side Note ***\n",
    "Subjectivity is measured on a scale(0 to 1).  Zero is objective (expressing facts) or one is subjective (expressin opinion)\n",
    "\n",
    "Polarity is measured on a scale(-1 to 1).  Noting how positive or negative a title is ie happy versus sad\n",
    "\n",
    "###### Interesting Tidbits\n",
    "1. The most characters found in a title is 299. Wow!\n",
    "2. The most words found in a title is 58. Double Wow!\n"
   ]
  },
  {
   "cell_type": "code",
   "execution_count": 4,
   "metadata": {},
   "outputs": [
    {
     "name": "stdout",
     "output_type": "stream",
     "text": [
      "[nltk_data] Downloading package brown to /home/lwgray/nltk_data...\n",
      "[nltk_data]   Package brown is already up-to-date!\n"
     ]
    },
    {
     "data": {
      "text/plain": [
       "True"
      ]
     },
     "execution_count": 4,
     "metadata": {},
     "output_type": "execute_result"
    }
   ],
   "source": [
    "import nltk\n",
    "nltk.download('brown')"
   ]
  },
  {
   "cell_type": "code",
   "execution_count": 4,
   "metadata": {},
   "outputs": [
    {
     "name": "stdout",
     "output_type": "stream",
     "text": [
      "Total Number of Titles in Dataset: 8662\n"
     ]
    },
    {
     "data": {
      "text/html": [
       "<div>\n",
       "<style scoped>\n",
       "    .dataframe tbody tr th:only-of-type {\n",
       "        vertical-align: middle;\n",
       "    }\n",
       "\n",
       "    .dataframe tbody tr th {\n",
       "        vertical-align: top;\n",
       "    }\n",
       "\n",
       "    .dataframe thead th {\n",
       "        text-align: right;\n",
       "    }\n",
       "</style>\n",
       "<table border=\"1\" class=\"dataframe\">\n",
       "  <thead>\n",
       "    <tr style=\"text-align: right;\">\n",
       "      <th></th>\n",
       "      <th>Characters</th>\n",
       "      <th>Words</th>\n",
       "      <th>Noun_Phrases</th>\n",
       "      <th>Syllables</th>\n",
       "      <th>Subjectivity</th>\n",
       "      <th>Polarity</th>\n",
       "      <th>Votes</th>\n",
       "      <th>Consonants</th>\n",
       "      <th>Vowels</th>\n",
       "      <th>Kincaid</th>\n",
       "      <th>Flesch</th>\n",
       "    </tr>\n",
       "  </thead>\n",
       "  <tbody>\n",
       "    <tr>\n",
       "      <th>All</th>\n",
       "      <td>57</td>\n",
       "      <td>10</td>\n",
       "      <td>1.473216</td>\n",
       "      <td>16</td>\n",
       "      <td>0.196596</td>\n",
       "      <td>0.074589</td>\n",
       "      <td>7.520319</td>\n",
       "      <td>39</td>\n",
       "      <td>18</td>\n",
       "      <td>9</td>\n",
       "      <td>46</td>\n",
       "    </tr>\n",
       "    <tr>\n",
       "      <th>Success</th>\n",
       "      <td>60</td>\n",
       "      <td>11</td>\n",
       "      <td>1.535070</td>\n",
       "      <td>17</td>\n",
       "      <td>0.216157</td>\n",
       "      <td>0.088646</td>\n",
       "      <td>19.933066</td>\n",
       "      <td>41</td>\n",
       "      <td>19</td>\n",
       "      <td>9</td>\n",
       "      <td>47</td>\n",
       "    </tr>\n",
       "    <tr>\n",
       "      <th>Failure</th>\n",
       "      <td>56</td>\n",
       "      <td>10</td>\n",
       "      <td>1.448192</td>\n",
       "      <td>16</td>\n",
       "      <td>0.188682</td>\n",
       "      <td>0.068902</td>\n",
       "      <td>2.498460</td>\n",
       "      <td>38</td>\n",
       "      <td>18</td>\n",
       "      <td>9</td>\n",
       "      <td>46</td>\n",
       "    </tr>\n",
       "  </tbody>\n",
       "</table>\n",
       "</div>"
      ],
      "text/plain": [
       "         Characters  Words  Noun_Phrases  Syllables  Subjectivity  Polarity  \\\n",
       "All              57     10      1.473216         16      0.196596  0.074589   \n",
       "Success          60     11      1.535070         17      0.216157  0.088646   \n",
       "Failure          56     10      1.448192         16      0.188682  0.068902   \n",
       "\n",
       "             Votes  Consonants  Vowels  Kincaid  Flesch  \n",
       "All       7.520319          39      18        9      46  \n",
       "Success  19.933066          41      19        9      47  \n",
       "Failure   2.498460          38      18        9      46  "
      ]
     },
     "metadata": {},
     "output_type": "display_data"
    }
   ],
   "source": [
    "print('Total Number of Titles in Dataset:', len(data['title']))\n",
    "results = describe(data) # calzone function to extract title attributes\n",
    "display(results)"
   ]
  },
  {
   "cell_type": "markdown",
   "metadata": {},
   "source": [
    "#### *** SPECIAL NOTE: Feature Analysis ***\n",
    "1.  Colinearity can be useful in determining which features to include in analysis (see [here](feature_analysis.ipynb))\n",
    "    1.  More than likely the feature selection algorithm will exclude vowels, consonants, and charcount features\n",
    "\n",
    "\n",
    "<img align='left', src=\"images/pearson1.png\", alt='Pearson Correlation Matrix'>"
   ]
  },
  {
   "cell_type": "markdown",
   "metadata": {},
   "source": [
    "### Frequency Distribution of words (unigrams/bigrams)\n",
    "We also need to examine the words contained in the titles.  Below is a frequency distribution chart that showcases the most common terms.  As expected, since we are in /r/datascience, the term data scientist is at the top of the word list.  Most interesting are the themes that become apparent:\n",
    "1.  Positions (data scientist)\n",
    "2.  Tools & Topics (big data, python, machine learning, etc)\n",
    "3.  Employment (Career, experience, job, work)\n",
    "4.  Education ( learning, course, masters)\n",
    "\n",
    "<img src=\"images/freqdist.png\", alt='Frequency Distribution', align='left'>"
   ]
  },
  {
   "cell_type": "markdown",
   "metadata": {},
   "source": [
    "# Step 5-7 (tldr):  \n",
    "\n",
    "5.  Feature Extraction (see above note on colinearity)\n",
    "    \n",
    "    1.  pos:\n",
    "            Creates a dataframe containing a count of 35 different parts of speech in each title\n",
    "    2.  read:\n",
    "            Creates a list of list containing scores related to readability of titles\n",
    "                1. Flesch_kincaid_grade: approximate the grade level required to read the title\n",
    "                2. syllable count: the number of syllables in the title\n",
    "                3. Flesch_reading_ease: score of how easy it is to read the title\n",
    "    3.  words:\n",
    "            Creates a dataframe containing any number of the following:\n",
    "                1. Consonants - the number of consonants in each title\n",
    "                2. Vowels - the number of vowels in each title\n",
    "                3. Words - the number of words in each title\n",
    "                4. Characters - the number of characters in each title\n",
    "    4.  blob:\n",
    "            Creates a dataframe containing the following characteristics of each title\n",
    "                1. Noun Phrases - a count of the number of noun phrases in each title\n",
    "                2. Subjectivity - Objectivity vesus Subjectivity(range 0 to 1)\n",
    "                3. Polarity - Negative(-1), Neural(0), or Positive(1) Sentiment(ranging from -1 to 1)\n",
    "    5.  title:\n",
    "            Vectorizes text, decomposes vector, and select features.  \n",
    "                1. Tf-idf Vectorizer\n",
    "                    A. Creates a word vector in which a word is weighted by its occurence not only in the title it was derived from but also the entire corpus.\n",
    "                    B.  Use uni-grams to tri-grams, english stop_words, and sublinear term frequency(tf)\n",
    "                        1.  Sublinear tf: Uses the logarithm of the tf instead of simple tf\n",
    "                2.  TruncatedSVD reduces features through LSA decomposition\n",
    "                3.  SelectPercentile selects the top 10% of features that improve prediction\n",
    "\n",
    "6.  Modeling - Classifier: RandomForest\n",
    "    1.  We chose this classifier for its speed.  \n",
    "    2.  We examined other classifiers but the results were pretty much the same.  \n",
    "    3.  We generate prediction model by fitting on training data\n",
    "    4.  We use the model to predict the test data labels( successful/unsuccessful)\n",
    "\n",
    "7.  Model Evaluation\n",
    "    1. Preliminary Evaluation\n",
    "        1.  Measure prediction accuracy\n",
    "        2.  Cross validate prediction, This is primarily a way of measuring the predictive performance of a statistical model\n",
    "        3.  Measure F1 Score\n",
    "    2. Visual Evaluation\n",
    "        \n",
    "8.  Model Improvements\n",
    "    1. Improved by tuning hyperparameters, see [here](hyperparameters.ipynb)\n",
    "        1.  However in this instance, tuning only resulted in slight improve (1%)\n",
    "\n"
   ]
  },
  {
   "cell_type": "markdown",
   "metadata": {},
   "source": [
    "### Feature Extraction, Feature Selection and Modeling\n",
    "The titles provide us with two different types of information.  The first type is the general attributes of the title, ie how many words, syllables, vowels, etc... (see above for list of attributes) in each title.  The second type is the words themselves.  The question is how do we use both types of information to predict if a title will be successful.  For the attributes, it is simple because they are numbers; it could be as easy as finding out which combination of attributes define success versus failure.  How to define success with just words becomes tricky.  Essentially, performing machine learning on the titles requires that the text content be turned into numerical feature vectors(feature extraction).  \n",
    "\n",
    "For feature extraction on the titles we used a count vectorizer that measures term frequency(tf), ie how often a word appears in a title.  For instance, if we do this for the following sentences then we produce the matrix below.  \n",
    "\n",
    "##### Title 1: The dog jumped over the fence\n",
    "##### Title 2: The cat chased the dog\n",
    "##### Title 3: The white cat chased the brown cat who jumped over the orange cat\n",
    "\n",
    "\n",
    "|          |the | dog | jumped | over | fence | cat | chased | white | brown | who | orange|\n",
    "|:----------------------------------------------------------------------------------------:|\n",
    "|Title 1   | 2  |  1  |  1     |  1   |   1   |  0  |   0    |   0   |   0   |  0  |   0   |\n",
    "|Title 2   | 1  |  1  |  0     |  0   |   0   |  1  |   1    |   0   |   0   |  0  |   0   |\n",
    "|Title 3   | 3  |  0   | 1     |  1   |   0   |  3  |   1    |   1   |   1   |  1  |   1   |\n",
    "\n",
    "\n",
    "\n",
    "\n",
    "The downside of just using tf is that words that appear most often tend to dominate the matrix.  To overcome this we use the product of term frequency and inverse document frequency(tf-idf).  Idf is the measure of whether a term is common or rare across all documents [Side note 2]. \n",
    "\n",
    "Essentially, Tf-idf creates a word vector in which a word is weighted by its occurence not only in the title it was derived from but also the corpus(the entire group of titles). A complete example on how tf-idf is calculated can be found [here](tfidf.ipynb)\n",
    "\n",
    "The tf-idf process leaves us with about a vocabulary of 58,000 (see side note, for explanation of why this is so large).  Not all these words/phrases are going to provide useful information.  The trick is to find a reduced dimensional representation of our matrix that emphasizes the strongest relationships and throws away the noise.  To achieve this, we use a dimension reduction technique called TruncatedSVD aka Latent Semantic Analysis[(LSA)](https://technowiki.wordpress.com/2011/08/27/latent-semantic-analysis-lsa-tutorial/).  After reducing our dimensions with LSA, we further compact our matrix by using Anova F-Value feature selection.\n",
    "\n",
    "Let's not forget about the title attributes, they also need to undergo feature selection.  We do this by using tree-based estimators(ExtraTreesClassifier) to compute feature importance, which can be used to discard irrelevant features.  This results in a reduction from 45 to 17 most important attributes.\n",
    "\n",
    "Using Sci-kit Learn's \"feature union\" function, we can combine the attribute and tf-idf vectors then insert this vector into a Random Forest Classifier.  We chose Random Forest only after trying out several other classifers, such as Naive Bayes, Multilayer Perceptron, and K Nearest Neighbors.  We optimized our model by tuning the [hyperparameters](hyperparameters.py).\n",
    "We evaluated our model with common scoring methods; Our accuracy was 55%.  The charts below provide more visual evaluations.  A great model would have higher precision, recall, and F1 Score plus a ROC curve that hugs the y-axis.  I do not have a great model and I'm ok with that!  \n",
    " \n",
    " \n",
    " ###### Side Note 1:\n",
    " To get even more information out of a title we use unigrams, bigrams and trigrams.  This is a group of one, two or three words.  For example, \"The boy ran\" would break down into 'the', 'boy', 'ran', 'the boy', 'boy ran', and 'the boy ran'.\n",
    " ##### Side Note 2:\n",
    " tf-idf [reference](https://en.wikipedia.org/wiki/Tf%E2%80%93idf)"
   ]
  },
  {
   "cell_type": "code",
   "execution_count": null,
   "metadata": {},
   "outputs": [],
   "source": []
  },
  {
   "cell_type": "code",
   "execution_count": 5,
   "metadata": {},
   "outputs": [],
   "source": [
    "def keras_model():\n",
    "    #optimizer = tf.train.RMSPropOptimizer(0.001)\n",
    "    model = Sequential()\n",
    "    model.add(Dense(16, activation='relu'))\n",
    "    model.add(Dense(16, activation='relu'))\n",
    "    model.add(Dense(1, activation='sigmoid'))\n",
    "    model.compile(loss='binary_crossentropy', optimizer='rmsprop',\n",
    "                  metrics=['accuracy'])\n",
    "    #model.compile(loss='mean_squared_error', optimizer='sgd')\n",
    "\n",
    "    return model\n",
    "'''\n",
    "def keras_model():\n",
    "    model = Sequential()\n",
    "    model.add(Dense(32, activation='relu'))\n",
    "    model.add(Dropout(0.5))\n",
    "    model.add(Dense(32, activation='relu'))\n",
    "    model.add(Dropout(0.5))\n",
    "    model.add(Dense(1, activation='sigmoid'))\n",
    "    model.compile(loss='binary_crossentropy',\n",
    "              optimizer='rmsprop',\n",
    "              metrics=['accuracy'])\n",
    "    return model\n",
    "'''\n",
    "# Sklearn has a pipeline Class that directs the flow of model creation; \n",
    "# The pipeline corrals the features into the Random Forest classifer.\n",
    "# Within the pipeline is a sklearn Class called FeatureUnion.\n",
    "# Feature Union allows for the joining of multiple features into a single vector\n",
    "# Within the feature union is a transformer list containing classes that performed the functions described above\n",
    "# The final pipeline item is the declaration of a classifier that the combined feature vector will be inserted into\n",
    "\n",
    "pipeline = Pipeline([\n",
    "    ('union', FeatureUnion(\n",
    "        transformer_list=[\n",
    "                      \n",
    "            ('pipe', Pipeline([\n",
    "                ('inner', FeatureUnion(\n",
    "                    transformer_list=[\n",
    "                        ('pos', POS()),\n",
    "\n",
    "                        ('read', Readable()),\n",
    "\n",
    "                        ('words', Words()),\n",
    "\n",
    "                        ('blob', Pipeline([\n",
    "                            ('all', Blob()),\n",
    "                            ('minmax', MinMaxScaler()),\n",
    "                        ])),\n",
    "                ])),\n",
    "                ('select', SelectFromModel(ExtraTreesClassifier()))\n",
    "   \n",
    "            ])),\n",
    "                      \n",
    "            ('title', Pipeline([\n",
    "                ('tfidf', TfidfVectorizer(token_pattern=u'(?ui)\\\\b\\\\w*[a-z]+\\\\w*\\\\b', ngram_range=(1,3), sublinear_tf=True,\n",
    "                                          strip_accents='unicode', stop_words='english')),\n",
    "                ('svd', TruncatedSVD(n_components=120)),\n",
    "                ('normalize', MinMaxScaler(copy=False)),\n",
    "                ('selector', SelectPercentile(f_classif, percentile=10))\n",
    "            ])),\n",
    "\n",
    "            \n",
    "            ])),\n",
    "    ('clf', KerasClassifier(build_fn=keras_model, epochs=10)),\n",
    "        ])"
   ]
  },
  {
   "cell_type": "code",
   "execution_count": 6,
   "metadata": {},
   "outputs": [
    {
     "name": "stderr",
     "output_type": "stream",
     "text": [
      "/data/anaconda3/envs/calzone/lib/python3.6/site-packages/sklearn/ensemble/forest.py:248: FutureWarning: The default value of n_estimators will change from 10 in version 0.20 to 100 in 0.22.\n",
      "  \"10 in version 0.20 to 100 in 0.22.\", FutureWarning)\n"
     ]
    },
    {
     "name": "stdout",
     "output_type": "stream",
     "text": [
      "WARNING:tensorflow:From /data/anaconda3/envs/calzone/lib/python3.6/site-packages/tensorflow/python/framework/op_def_library.py:263: colocate_with (from tensorflow.python.framework.ops) is deprecated and will be removed in a future version.\n",
      "Instructions for updating:\n",
      "Colocations handled automatically by placer.\n",
      "WARNING:tensorflow:From /data/anaconda3/envs/calzone/lib/python3.6/site-packages/tensorflow/python/ops/math_ops.py:3066: to_int32 (from tensorflow.python.ops.math_ops) is deprecated and will be removed in a future version.\n",
      "Instructions for updating:\n",
      "Use tf.cast instead.\n",
      "Epoch 1/10\n",
      "6929/6929 [==============================] - 0s 56us/step - loss: 0.8895 - acc: 0.5056\n",
      "Epoch 2/10\n",
      "6929/6929 [==============================] - 0s 28us/step - loss: 0.7227 - acc: 0.4976\n",
      "Epoch 3/10\n",
      "6929/6929 [==============================] - 0s 28us/step - loss: 0.7168 - acc: 0.5048\n",
      "Epoch 4/10\n",
      "6929/6929 [==============================] - 0s 28us/step - loss: 0.7143 - acc: 0.5069\n",
      "Epoch 5/10\n",
      "6929/6929 [==============================] - 0s 28us/step - loss: 0.7138 - acc: 0.5090\n",
      "Epoch 6/10\n",
      "6929/6929 [==============================] - 0s 28us/step - loss: 0.7109 - acc: 0.5113\n",
      "Epoch 7/10\n",
      "6929/6929 [==============================] - 0s 27us/step - loss: 0.7117 - acc: 0.5015\n",
      "Epoch 8/10\n",
      "6929/6929 [==============================] - 0s 27us/step - loss: 0.7108 - acc: 0.5048\n",
      "Epoch 9/10\n",
      "6929/6929 [==============================] - 0s 27us/step - loss: 0.7054 - acc: 0.5188\n",
      "Epoch 10/10\n",
      "6929/6929 [==============================] - 0s 29us/step - loss: 0.7055 - acc: 0.5155\n",
      "[[0]\n",
      " [1]\n",
      " [1]\n",
      " [1]]\n"
     ]
    }
   ],
   "source": [
    "# Train model\n",
    "pipeline.fit(train_X, train_y)\n",
    "\n",
    "# Predict Test Set\n",
    "y_pred = pipeline.predict(test_X)\n",
    "\n",
    "# Test it out\n",
    "print(pipeline.predict(\n",
    "    pd.Series(['Data Lakes and Pipelines','hackhub','Looking for MOOCs with actual projects to add to Github/Resume','A tutorial on my machine-learning workflow for predicting whether or not this post will be popular']\n",
    "    )))"
   ]
  },
  {
   "cell_type": "code",
   "execution_count": 16,
   "metadata": {},
   "outputs": [
    {
     "name": "stderr",
     "output_type": "stream",
     "text": [
      "/data/anaconda3/envs/calzone/lib/python3.6/site-packages/sklearn/ensemble/forest.py:248: FutureWarning: The default value of n_estimators will change from 10 in version 0.20 to 100 in 0.22.\n",
      "  \"10 in version 0.20 to 100 in 0.22.\", FutureWarning)\n"
     ]
    },
    {
     "name": "stdout",
     "output_type": "stream",
     "text": [
      "Epoch 1/10\n",
      "6929/6929 [==============================] - 2s 257us/step - loss: 3.5696 - acc: 0.5044\n",
      "Epoch 2/10\n",
      "6929/6929 [==============================] - 0s 35us/step - loss: 0.9116 - acc: 0.5021\n",
      "Epoch 3/10\n",
      "6929/6929 [==============================] - 0s 34us/step - loss: 0.7259 - acc: 0.4858\n",
      "Epoch 4/10\n",
      "6929/6929 [==============================] - 0s 37us/step - loss: 0.7063 - acc: 0.4929\n",
      "Epoch 5/10\n",
      "6929/6929 [==============================] - 0s 35us/step - loss: 0.7017 - acc: 0.5089\n",
      "Epoch 6/10\n",
      "6929/6929 [==============================] - 0s 34us/step - loss: 0.6981 - acc: 0.4986\n",
      "Epoch 7/10\n",
      "6929/6929 [==============================] - 0s 35us/step - loss: 0.6999 - acc: 0.4991\n",
      "Epoch 8/10\n",
      "6929/6929 [==============================] - 0s 35us/step - loss: 0.6978 - acc: 0.4923\n",
      "Epoch 9/10\n",
      "6929/6929 [==============================] - 0s 35us/step - loss: 0.6955 - acc: 0.5090\n",
      "Epoch 10/10\n",
      "6929/6929 [==============================] - 0s 35us/step - loss: 0.6953 - acc: 0.5082\n"
     ]
    },
    {
     "name": "stderr",
     "output_type": "stream",
     "text": [
      "/data/anaconda3/envs/calzone/lib/python3.6/site-packages/sklearn/metrics/classification.py:1143: UndefinedMetricWarning: Precision and F-score are ill-defined and being set to 0.0 in labels with no predicted samples.\n",
      "  'precision', 'predicted', average, warn_for)\n"
     ]
    },
    {
     "data": {
      "image/png": "[encoded data removed]",
      "text/plain": [
       "<Figure size 576x396 with 2 Axes>"
      ]
     },
     "metadata": {},
     "output_type": "display_data"
    }
   ],
   "source": [
    "\n",
    "\n",
    "from yellowbrick.classifier import ClassificationReport, ConfusionMatrix, ROCAUC, ClassBalance\n",
    "visualizer = ClassificationReport(pipeline)\n",
    "visualizer.fit(train_X, train_y)\n",
    "visualizer.score(test_X,test_y)\n",
    "visualizer.poof()"
   ]
  },
  {
   "cell_type": "code",
   "execution_count": 7,
   "metadata": {},
   "outputs": [
    {
     "data": {
      "text/plain": [
       "['datascience_keras_noYB.xz']"
      ]
     },
     "execution_count": 7,
     "metadata": {},
     "output_type": "execute_result"
    }
   ],
   "source": [
    "# Save our model\n",
    "joblib.dump(pipeline, 'datascience_keras_noYB.xz', compress=('xz', 9))"
   ]
  },
  {
   "cell_type": "code",
   "execution_count": 6,
   "metadata": {},
   "outputs": [
    {
     "data": {
      "text/plain": [
       "<bound method Pipeline.get_params of Pipeline(memory=None,\n",
       "     steps=[('union', FeatureUnion(n_jobs=None,\n",
       "       transformer_list=[('pipe', Pipeline(memory=None,\n",
       "     steps=[('inner', FeatureUnion(n_jobs=None,\n",
       "       transformer_list=[('pos', POS()), ('read', Readable()), ('words', Words()), ('blob', Pipeline(memory=None,\n",
       "     steps=[('all', Blob()), ('minmax',...   transformer_weights=None)), ('clf', KerasClf(build_fn=<function keras_model at 0x7f3aac2fd2f0>))])>"
      ]
     },
     "execution_count": 6,
     "metadata": {},
     "output_type": "execute_result"
    }
   ],
   "source": [
    "pipeline.get_params"
   ]
  },
  {
   "cell_type": "markdown",
   "metadata": {},
   "source": [
    "### Model Evaluation - Preliminary Evaluation"
   ]
  },
  {
   "cell_type": "code",
   "execution_count": 7,
   "metadata": {},
   "outputs": [
    {
     "name": "stdout",
     "output_type": "stream",
     "text": [
      "Accuracy: 50.9%\n",
      "F1 Score: 0.599\n"
     ]
    }
   ],
   "source": [
    "# Measure prediction Accuracy and F1 Score\n",
    "accuracy = accuracy_score(y_pred=y_pred, y_true=test_y)\n",
    "print('Accuracy: {:03.1f}%'.format(accuracy * 100))\n",
    "\n",
    "print('F1 Score: {:.3f}'.format(f1_score(test_y, y_pred)))"
   ]
  },
  {
   "cell_type": "code",
   "execution_count": 8,
   "metadata": {},
   "outputs": [
    {
     "name": "stderr",
     "output_type": "stream",
     "text": [
      "/data/anaconda3/envs/calzone/lib/python3.6/site-packages/sklearn/ensemble/forest.py:248: FutureWarning: The default value of n_estimators will change from 10 in version 0.20 to 100 in 0.22.\n",
      "  \"10 in version 0.20 to 100 in 0.22.\", FutureWarning)\n"
     ]
    },
    {
     "name": "stdout",
     "output_type": "stream",
     "text": [
      "Epoch 1/1\n",
      "5542/5542 [==============================] - 0s 72us/step - loss: 0.8374 - acc: 0.5101\n"
     ]
    },
    {
     "name": "stderr",
     "output_type": "stream",
     "text": [
      "/data/anaconda3/envs/calzone/lib/python3.6/site-packages/sklearn/ensemble/forest.py:248: FutureWarning: The default value of n_estimators will change from 10 in version 0.20 to 100 in 0.22.\n",
      "  \"10 in version 0.20 to 100 in 0.22.\", FutureWarning)\n"
     ]
    },
    {
     "name": "stdout",
     "output_type": "stream",
     "text": [
      "Epoch 1/1\n",
      "5543/5543 [==============================] - 0s 78us/step - loss: 0.8580 - acc: 0.4972\n"
     ]
    },
    {
     "name": "stderr",
     "output_type": "stream",
     "text": [
      "/data/anaconda3/envs/calzone/lib/python3.6/site-packages/sklearn/ensemble/forest.py:248: FutureWarning: The default value of n_estimators will change from 10 in version 0.20 to 100 in 0.22.\n",
      "  \"10 in version 0.20 to 100 in 0.22.\", FutureWarning)\n"
     ]
    },
    {
     "name": "stdout",
     "output_type": "stream",
     "text": [
      "Epoch 1/1\n",
      "5543/5543 [==============================] - 0s 82us/step - loss: 1.1982 - acc: 0.4853\n"
     ]
    },
    {
     "name": "stderr",
     "output_type": "stream",
     "text": [
      "/data/anaconda3/envs/calzone/lib/python3.6/site-packages/sklearn/ensemble/forest.py:248: FutureWarning: The default value of n_estimators will change from 10 in version 0.20 to 100 in 0.22.\n",
      "  \"10 in version 0.20 to 100 in 0.22.\", FutureWarning)\n"
     ]
    },
    {
     "name": "stdout",
     "output_type": "stream",
     "text": [
      "Epoch 1/1\n",
      "5544/5544 [==============================] - 1s 91us/step - loss: 0.9845 - acc: 0.4984\n"
     ]
    },
    {
     "name": "stderr",
     "output_type": "stream",
     "text": [
      "/data/anaconda3/envs/calzone/lib/python3.6/site-packages/sklearn/ensemble/forest.py:248: FutureWarning: The default value of n_estimators will change from 10 in version 0.20 to 100 in 0.22.\n",
      "  \"10 in version 0.20 to 100 in 0.22.\", FutureWarning)\n"
     ]
    },
    {
     "name": "stdout",
     "output_type": "stream",
     "text": [
      "Epoch 1/1\n",
      "5544/5544 [==============================] - 1s 98us/step - loss: 1.1146 - acc: 0.5146\n",
      "CV Scores:  [0.50684932 0.48989899 0.48412698 0.51046931 0.49602888]\n"
     ]
    }
   ],
   "source": [
    "# Cross Validate prediction Score\n",
    "print('CV Scores: ', cross_val_score(pipeline, train_X, train_y, cv=5))"
   ]
  },
  {
   "cell_type": "markdown",
   "metadata": {},
   "source": [
    "### Model Evaluation - Visual Evaluation\n",
    "In the Graphs below, False or Failure equates to less than 7.5 votes while True or Success equates to greater than 7.5 votes"
   ]
  },
  {
   "cell_type": "code",
   "execution_count": 9,
   "metadata": {},
   "outputs": [
    {
     "name": "stderr",
     "output_type": "stream",
     "text": [
      "/data/anaconda3/envs/calzone/lib/python3.6/site-packages/sklearn/ensemble/forest.py:248: FutureWarning: The default value of n_estimators will change from 10 in version 0.20 to 100 in 0.22.\n",
      "  \"10 in version 0.20 to 100 in 0.22.\", FutureWarning)\n"
     ]
    },
    {
     "name": "stdout",
     "output_type": "stream",
     "text": [
      "Epoch 1/1\n",
      "6929/6929 [==============================] - 1s 94us/step - loss: 1.3065 - acc: 0.5048\n"
     ]
    },
    {
     "data": {
      "image/png": "[encoded data removed]",
      "text/plain": [
       "<Figure size 576x396 with 1 Axes>"
      ]
     },
     "metadata": {},
     "output_type": "display_data"
    }
   ],
   "source": [
    "cm = ConfusionMatrix(pipeline)\n",
    "cm.fit(train_X, train_y)\n",
    "cm.score(test_X, test_y)\n",
    "cm.poof()"
   ]
  },
  {
   "cell_type": "code",
   "execution_count": 10,
   "metadata": {},
   "outputs": [
    {
     "name": "stderr",
     "output_type": "stream",
     "text": [
      "/data/anaconda3/envs/calzone/lib/python3.6/site-packages/sklearn/ensemble/forest.py:248: FutureWarning: The default value of n_estimators will change from 10 in version 0.20 to 100 in 0.22.\n",
      "  \"10 in version 0.20 to 100 in 0.22.\", FutureWarning)\n"
     ]
    },
    {
     "name": "stdout",
     "output_type": "stream",
     "text": [
      "Epoch 1/1\n",
      "6929/6929 [==============================] - 1s 103us/step - loss: 0.9541 - acc: 0.5041\n"
     ]
    },
    {
     "data": {
      "image/png": "[encoded data removed]",
      "text/plain": [
       "<Figure size 576x396 with 1 Axes>"
      ]
     },
     "metadata": {},
     "output_type": "display_data"
    }
   ],
   "source": [
    "visualizer = ROCAUC(pipeline)\n",
    "visualizer.fit(train_X, train_y)\n",
    "visualizer.score(test_X, test_y)\n",
    "g=visualizer.poof()"
   ]
  },
  {
   "cell_type": "markdown",
   "metadata": {},
   "source": [
    "|Classification Report          |Confusion Matrix               |\n",
    "|:-----------------------------:|:-----------------------------:|\n",
    "| <img src=\"images/clsreport1.png\"> | <img src=\"images/confusion.png\"> |"
   ]
  },
  {
   "cell_type": "markdown",
   "metadata": {},
   "source": [
    "| Class Balance                 | ROC Curve                     |\n",
    "|:-----------------------------:|:-----------------------------:|\n",
    "| <img src=\"images/classbalance.png\"> | <img src=\"images/rocauc.png\"> |"
   ]
  },
  {
   "cell_type": "markdown",
   "metadata": {},
   "source": [
    "## Conclusion:\n",
    "\n",
    "My goal was to go through and document the entire process of building a classifier.  I learned a lot.  Now, I know that the title isn't sufficient enough to predict whether or not a post will be successful.  Getting to this conclusion after so many hours of work was heartbreaking but at the same time very fulfilling.  I hope you can take my failure and use it to build successful models.  Also, I hope you return for my follow-up blog post on how to predict the number of votes a title will receive.  Until next time, Adios :)"
   ]
  },
  {
   "cell_type": "markdown",
   "metadata": {},
   "source": [
    "### P.S.  I am looking to switch careers from computational biology to data science.  Message me if you have any positions available."
   ]
  }
 ],
 "metadata": {
  "kernelspec": {
   "display_name": "Python 3",
   "language": "python",
   "name": "python3"
  },
  "language_info": {
   "codemirror_mode": {
    "name": "ipython",
    "version": 3
   },
   "file_extension": ".py",
   "mimetype": "text/x-python",
   "name": "python",
   "nbconvert_exporter": "python",
   "pygments_lexer": "ipython3",
   "version": "3.6.6"
  }
 },
 "nbformat": 4,
 "nbformat_minor": 2
}
