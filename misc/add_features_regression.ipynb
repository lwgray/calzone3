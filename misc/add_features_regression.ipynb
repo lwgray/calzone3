{
 "cells": [
  {
   "cell_type": "code",
   "execution_count": 69,
   "metadata": {},
   "outputs": [],
   "source": [
    "import matplotlib\n",
    "import matplotlib.pyplot as plt\n",
    "%matplotlib inline\n",
    "from IPython.display import display, HTML\n",
    "import pylab\n",
    "\n",
    "from time import time\n",
    "from pprint import pprint\n",
    "import pandas as pd\n",
    "import numpy as np\n",
    "\n",
    "from feature_extraction import Blob, Words\n",
    "from calzone import grab_posts, describe\n",
    "\n",
    "from sklearn.model_selection import train_test_split\n",
    "from sklearn.model_selection import cross_val_score\n",
    "from sklearn.model_selection import GridSearchCV\n",
    "\n",
    "from sklearn.metrics import mean_absolute_error, mean_squared_error, f1_score\n",
    "from sklearn.pipeline import Pipeline, FeatureUnion\n",
    "from sklearn.linear_model import Ridge\n",
    "\n",
    "from sklearn.feature_extraction.text import TfidfVectorizer\n",
    "from sklearn.decomposition import TruncatedSVD\n",
    "from sklearn.preprocessing import MinMaxScaler, Normalizer\n",
    "from sklearn.feature_selection import SelectPercentile, f_classif\n",
    "from sklearn.externals import joblib\n",
    "\n",
    "import scipy.stats as stats"
   ]
  },
  {
   "cell_type": "markdown",
   "metadata": {},
   "source": [
    "# Steps 1 - 4\n",
    "1.  Reads in csv-formatted subreddit data.  \n",
    "    1a. You can use the grab_posts function to collect posts inline\n",
    "2.  Optional: Data transformation  \n",
    "    2a. Obtain normal distribution of upvotes by applying log transformation.  \n",
    "    2b. Remove outliers using z-scores greater than -2.5 and less than 2.5\n",
    "3.  Create labeled data (It is the boolean set to whether or not a title will receive more than average number of upvotes )\n",
    "4.  Split data into training and test "
   ]
  },
  {
   "cell_type": "code",
   "execution_count": 61,
   "metadata": {},
   "outputs": [
    {
     "name": "stdout",
     "output_type": "stream",
     "text": [
      "AVERAGE UPVOTES:  9.9\n"
     ]
    }
   ],
   "source": [
    "#Read in posts\n",
    "\n",
    "data = pd.read_csv('processed_datascience.csv.bz2')\n",
    "\n",
    "# You can use the grab_posts module if you want to grab posts from specific subreddits and time-frames\n",
    "# To retrieve your own posts requires a reddit developer account\n",
    "#from calzone import grab_posts\n",
    "#data = grab_posts(sub='todayilearned', start='01/24/2018', end='02/05/2018', number=30000, verbose=True)\n",
    "\n",
    "\n",
    "## Optional: Throw out outliers by including rows with Z-Scores less than 2.5 and greater than -2.5\n",
    "#data['z_scores'] = np.abs((data.ups-data.ups.mean())/data.ups.std())\n",
    "#data = data[data['z_scores']<= 2.5]\n",
    "\n",
    "## Optional: Log transformation of up-votes\n",
    "data['log_ups'] = np.log1p(data['ups'])\n",
    "\n",
    "# Use log transformed votes as the label column \n",
    "train_X, test_X, train_y, test_y = train_test_split(data.title, \n",
    "                                                    data.log_ups, \n",
    "                                                    test_size=0.20,\n",
    "                                                    random_state=42)\n",
    "\n",
    "print('AVERAGE UPVOTES: ', '{:03.1f}'.format(data.ups.mean()))"
   ]
  },
  {
   "cell_type": "markdown",
   "metadata": {},
   "source": [
    "### Let's take a look at the imported data"
   ]
  },
  {
   "cell_type": "markdown",
   "metadata": {},
   "source": [
    "#### Description of Data\n",
    "\n",
    "The attributes are:\n",
    "    1.  The longest title (characters)\n",
    "    2.  The average length of a title (characters)\n",
    "    3.  The max number of words found in a title\n",
    "    4.  The average number of words in a title\n",
    "    5.  The average number of noun phrases found in titles\n",
    "    6.  The average subjectivity of the titles - ranging from 0(objective) to 1(subjective)\n",
    "    7.  The average polarity of the titles: -1(negative) to 0(neutral) to 1(positive)\n",
    "    8.  The average number of votes per title"
   ]
  },
  {
   "cell_type": "code",
   "execution_count": 62,
   "metadata": {},
   "outputs": [
    {
     "name": "stdout",
     "output_type": "stream",
     "text": [
      "Total Number of Titles in Dataset: 8856\n"
     ]
    },
    {
     "data": {
      "text/plain": [
       "Max_Title         299.000000\n",
       "Avg_Title          58.000000\n",
       "Max_Word_Count     58.000000\n",
       "Avg_Word_Count      9.000000\n",
       "Noun_Phrases        2.285117\n",
       "Subjectivity        0.193523\n",
       "Polarity            0.078142\n",
       "Avg_Votes           9.870709\n",
       "Name: All, dtype: float64"
      ]
     },
     "metadata": {},
     "output_type": "display_data"
    }
   ],
   "source": [
    "num_of_titles = len(data['title'])\n",
    "print('Total Number of Titles in Dataset:', num_of_titles)\n",
    "results = describe(data) # calzone function to extract title attributes\n",
    "display(results.loc['All'])"
   ]
  },
  {
   "cell_type": "markdown",
   "metadata": {},
   "source": [
    "### Statistical Description of Data"
   ]
  },
  {
   "cell_type": "code",
   "execution_count": 63,
   "metadata": {},
   "outputs": [
    {
     "name": "stdout",
     "output_type": "stream",
     "text": [
      "Exploratory Stats for Upvotes\n",
      "count    8856.000000\n",
      "mean        9.870709\n",
      "std        21.516689\n",
      "min         0.000000\n",
      "25%         1.000000\n",
      "50%         4.000000\n",
      "75%         9.000000\n",
      "max       552.000000\n",
      "Name: ups, dtype: float64\n",
      "\n"
     ]
    },
    {
     "data": {
      "image/png": "[encoded data removed]",
      "text/plain": [
       "<matplotlib.figure.Figure at 0x2ecb67a3208>"
      ]
     },
     "metadata": {},
     "output_type": "display_data"
    }
   ],
   "source": [
    "# Stats for Upvotes\n",
    "print('Exploratory Stats for Upvotes')\n",
    "print(data.ups.describe())\n",
    "print()\n",
    "\n",
    "\n",
    "# Distribution of Upvotes\n",
    "plt.figure(figsize=(12,8))\n",
    "plt.subplot(2,2,1)\n",
    "plt.title('Distribution of Upvotes')\n",
    "plt.hist(data['ups'])\n",
    "plt.xlabel('Upvotes per Post')\n",
    "\n",
    "plt.subplot(2,2,2)\n",
    "plt.title('Log Transformed Distribution of Upvotes')\n",
    "plt.hist(data['log_ups'])\n",
    "plt.xlabel('Upvotes per Post(log)')\n",
    "plt.show()\n"
   ]
  },
  {
   "cell_type": "markdown",
   "metadata": {},
   "source": [
    "### Graph a probability plot"
   ]
  },
  {
   "cell_type": "code",
   "execution_count": 64,
   "metadata": {},
   "outputs": [
    {
     "data": {
      "image/png": "[encoded data removed]",
      "text/plain": [
       "<matplotlib.figure.Figure at 0x2ecb66d27b8>"
      ]
     },
     "metadata": {},
     "output_type": "display_data"
    }
   ],
   "source": [
    "stats.probplot(data['log_ups'], dist=\"norm\", plot=pylab)\n",
    "pylab.show()"
   ]
  },
  {
   "cell_type": "markdown",
   "metadata": {},
   "source": [
    "# Step 5-7:  \n",
    "The workflow pipeline consists of two segments. The first is feature extraction, decomposition,and reduction. The second is training a classifier.  A quick reminder, all feature information is derieved from the title of each post.\n",
    "5.  Feature Extraction\n",
    "    \n",
    "    1.  words:\n",
    "            Creates a dataframe containing the number of the following in each title:\n",
    "                1. Consonants - the number of consonants in each title\n",
    "                2. Vowels - the number of vowels in each title\n",
    "                3. Words - the number of words in each title\n",
    "                4. Characters - the number of characters in each title\n",
    "    2.  blob:\n",
    "            Creates a dataframe containing the following characteristics of each title\n",
    "                1. Noun Phrases - a count of the number of noun phrases in each title\n",
    "                2. Subjectivity - Objectivity vesus Subjectivity(range 0 to 1)\n",
    "                3. Polarity - Negative(-1), Neural(0), or Positive(1) Sentiment(ranging from -1 to 1)\n",
    "    3.  title:\n",
    "            Vectorizes text, decomposes vector, and select features.  \n",
    "                1. Tf-idf\n",
    "                    A. Creates a word vector in which a word is weighted by its occurence not only in the title it was derived from but also the entire corpus.\n",
    "                    B.  Use uni-grams to tri-grams, english stop_words, and sublinear term frequency(tf)\n",
    "                        1.  Sublinear tf: Uses the logarithm of the term frequency instead of simple tf\n",
    "                2.  TruncatedSVD reduces features through LSA decomposition\n",
    "                3.  SelectPercentile selects the top 10% of features that improve prediction\n",
    "\n",
    "6.  Classifier:  ExtraTreesClassifier\n",
    "    1.  I choose this classifier for its speed.  \n",
    "    2.  I examined other classifiers but the results were pretty much the same.  \n",
    "\n",
    "7.  Final Steps\n",
    "    1.  Generate prediction model by fitting on training data\n",
    "    2.  Use model to predict test data labels\n",
    "    3.  Measure prediction accuracy\n",
    "    4.  Cross validate prediction, This is primarily a way of measuring the predictive performance of a statistical model\n",
    "    5.  Improved by tuning hyperparameters, see [here](hyperparameters.ipynb)\n",
    "        1.  However in this instance, tuning only resulted in slight improve (1%)\n",
    "\n",
    "#### *** SPECIAL NOTE ***\n",
    "1.  Collinearity can be used to determine which features to include in analysis (see [here](colinearity.ipynb))\n",
    "    1.  Despite the correlation results, I choose to use all the features described above"
   ]
  },
  {
   "cell_type": "code",
   "execution_count": 65,
   "metadata": {},
   "outputs": [],
   "source": [
    "# Sklearn has a pipeline Class that directs the flow of model creation; below the pipeline corals the features into the ExtraTrees classifer.\n",
    "# Within the pipeline is a sklearn Class called FeatureUnion.  Feature Union allows for the joining of multiple features into a single vector\n",
    "# Within the feature union is a transformer list containing classes that performed the functions described above\n",
    "# The final pipeline item is the declaration of a classifier that the feature vector will be inserted into\n",
    "\n",
    "pipeline = Pipeline([\n",
    "    ('union', FeatureUnion(\n",
    "        transformer_list=[\n",
    "                      \n",
    "            ('words', Words()),\n",
    "                      \n",
    "            ('title', Pipeline([\n",
    "                ('tfidf', TfidfVectorizer(ngram_range=(1,3), sublinear_tf=True, stop_words='english')),\n",
    "                ('svd', TruncatedSVD(n_components=120)),\n",
    "                ('normalize', MinMaxScaler(copy=False)),\n",
    "                ('selector', SelectPercentile(f_classif, percentile=10))\n",
    "            ])),\n",
    "            \n",
    "            ('blob', Pipeline([\n",
    "                ('all', Blob()),\n",
    "                ('minmax', MinMaxScaler()),\n",
    "            ])),\n",
    "            \n",
    "            ])),\n",
    "    ('clf', Ridge()),\n",
    "        ])\n",
    "\n",
    "# Train model\n",
    "pipeline.fit(train_X, train_y)\n",
    "\n",
    "# Predict Test Set\n",
    "y_pred = pipeline.predict(test_X)"
   ]
  },
  {
   "cell_type": "code",
   "execution_count": 66,
   "metadata": {},
   "outputs": [
    {
     "name": "stdout",
     "output_type": "stream",
     "text": [
      "Error: 1.4 votes\n"
     ]
    }
   ],
   "source": [
    "# Measure prediction Accuracy\n",
    "error = mean_absolute_error(y_pred=y_pred, y_true=test_y)\n",
    "print('Error: {:03.1f} votes'.format(np.expm1(error)))"
   ]
  },
  {
   "cell_type": "code",
   "execution_count": 67,
   "metadata": {},
   "outputs": [
    {
     "data": {
      "text/plain": [
       "8.2934835588186733"
      ]
     },
     "execution_count": 67,
     "metadata": {},
     "output_type": "execute_result"
    }
   ],
   "source": [
    "# Test it out!\n",
    "index = 2\n",
    "answer = pipeline.predict(pd.Series(['A Gentle Introduction to N-Dimensional Arrays in Python with NumPy - Machine Learning Mastery']))[0]\n",
    "np.expm1(answer)"
   ]
  },
  {
   "cell_type": "code",
   "execution_count": 70,
   "metadata": {},
   "outputs": [
    {
     "data": {
      "text/plain": [
       "['datascience_regressor.pkl']"
      ]
     },
     "execution_count": 70,
     "metadata": {},
     "output_type": "execute_result"
    }
   ],
   "source": [
    "# Save our model\n",
    "joblib.dump(pipeline, 'datascience_regressor.pkl')"
   ]
  },
  {
   "cell_type": "code",
   "execution_count": null,
   "metadata": {},
   "outputs": [],
   "source": []
  }
 ],
 "metadata": {
  "kernelspec": {
   "display_name": "Python 3",
   "language": "python",
   "name": "python3"
  },
  "language_info": {
   "codemirror_mode": {
    "name": "ipython",
    "version": 3
   },
   "file_extension": ".py",
   "mimetype": "text/x-python",
   "name": "python",
   "nbconvert_exporter": "python",
   "pygments_lexer": "ipython3",
   "version": "3.6.4"
  }
 },
 "nbformat": 4,
 "nbformat_minor": 2
}
