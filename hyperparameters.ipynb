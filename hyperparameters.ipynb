{
 "cells": [
  {
   "cell_type": "markdown",
   "metadata": {},
   "source": [
    "### Tune Hyperparameters\n",
    "This notebook is an example of how to tune hyperparameters for a sci-kit learn machine learning model"
   ]
  },
  {
   "cell_type": "code",
   "execution_count": 1,
   "metadata": {},
   "outputs": [],
   "source": [
    "\"\"\"Script to fine tune the hyperparameters\"\"\"\n",
    "import pandas as pd\n",
    "from sklearn.externals import joblib\n",
    "from sklearn.model_selection import GridSearchCV\n",
    "from sklearn.metrics import accuracy_score, f1_score\n",
    "from sklearn.pipeline import Pipeline\n",
    "from time import time\n",
    "from pprint import pprint\n",
    "from sklearn.model_selection import train_test_split, RandomizedSearchCV\n",
    "from scipy.stats import randint as sp_randint\n",
    "import numpy as np\n"
   ]
  },
  {
   "cell_type": "code",
   "execution_count": 2,
   "metadata": {},
   "outputs": [],
   "source": [
    "# This is for the RandomForestClassifier\n",
    "\n",
    "# Import previously created model see classify.ipynb\n",
    "# Read in data then split data into training and test sets\n",
    "# Create Label column defining whether or not the article's upvotes exceed the average vote for the subreddit\n",
    "# Split data into training and test sets\n",
    "\n",
    "pipeline = joblib.load('datascience.xz')\n",
    "data = pd.read_csv('processed_datascience.csv.bz2')\n",
    "data['gtavg'] = data.ups > data.ups.mean()\n",
    "train_X, test_X, train_y, test_y = train_test_split(data.title, \n",
    "                                                    data.gtavg, \n",
    "                                                    test_size=0.20,\n",
    "                                                    random_state=25)"
   ]
  },
  {
   "cell_type": "code",
   "execution_count": 3,
   "metadata": {},
   "outputs": [],
   "source": [
    "# Utility function to report best scores\n",
    "def report(results, n_top=3):\n",
    "    for i in range(1, n_top + 1):\n",
    "        candidates = np.flatnonzero(results['rank_test_score'] == i)\n",
    "        for candidate in candidates:\n",
    "            print(\"Model with rank: {0}\".format(i))\n",
    "            print(\"Mean validation score: {0:.3f} (std: {1:.3f})\".format(\n",
    "                  results['mean_test_score'][candidate],\n",
    "                  results['std_test_score'][candidate]))\n",
    "            print(\"Parameters: {0}\".format(results['params'][candidate]))\n",
    "            print(\"\")"
   ]
  },
  {
   "cell_type": "code",
   "execution_count": 4,
   "metadata": {},
   "outputs": [
    {
     "name": "stdout",
     "output_type": "stream",
     "text": [
      "Performing Randomized search...\n",
      "pipeline: ['union', 'clf']\n",
      "parameters:\n",
      "{'clf__max_depth': <scipy.stats._distn_infrastructure.rv_frozen object at 0x000001CA779CF940>,\n",
      " 'clf__max_features': ('log2', 'sqrt', None),\n",
      " 'clf__min_samples_leaf': <scipy.stats._distn_infrastructure.rv_frozen object at 0x000001CA779CFDA0>,\n",
      " 'clf__min_samples_split': <scipy.stats._distn_infrastructure.rv_frozen object at 0x000001CA779CFAC8>,\n",
      " 'clf__n_estimators': <scipy.stats._distn_infrastructure.rv_frozen object at 0x000001CA779CF7F0>}\n",
      "done in 702.822s\n",
      "\n"
     ]
    }
   ],
   "source": [
    "# Hyperparameters to optomize\n",
    "parameters = {\n",
    "    'clf__n_estimators':sp_randint(100,1201),\n",
    "    'clf__max_depth':sp_randint(5, 31),\n",
    "    'clf__min_samples_split':sp_randint(2,101),\n",
    "    'clf__min_samples_leaf':sp_randint(1,11),\n",
    "    'clf__max_features':('log2','sqrt',None),\n",
    "}\n",
    "\n",
    "# Setup RandomSearch\n",
    "random_search = RandomizedSearchCV(pipeline, param_distributions=parameters, n_iter=20, n_jobs=-1)\n",
    "\n",
    "print(\"Performing Randomized search...\")\n",
    "print(\"pipeline:\", [name for name, _ in pipeline.steps])\n",
    "print(\"parameters:\")\n",
    "pprint(parameters)\n",
    "\n",
    "# Start training data under differnt hyperparameters\n",
    "t0 = time()\n",
    "random_search.fit(train_X, train_y)\n",
    "print(\"done in %0.3fs\" % (time() - t0))\n",
    "print()"
   ]
  },
  {
   "cell_type": "code",
   "execution_count": 5,
   "metadata": {},
   "outputs": [
    {
     "name": "stdout",
     "output_type": "stream",
     "text": [
      "Model with rank: 1\n",
      "Mean validation score: 0.755 (std: 0.001)\n",
      "Parameters: {'clf__max_depth': 19, 'clf__max_features': 'sqrt', 'clf__min_samples_leaf': 3, 'clf__min_samples_split': 84, 'clf__n_estimators': 267}\n",
      "\n",
      "Model with rank: 2\n",
      "Mean validation score: 0.755 (std: 0.001)\n",
      "Parameters: {'clf__max_depth': 24, 'clf__max_features': 'sqrt', 'clf__min_samples_leaf': 8, 'clf__min_samples_split': 94, 'clf__n_estimators': 372}\n",
      "\n",
      "Model with rank: 2\n",
      "Mean validation score: 0.755 (std: 0.001)\n",
      "Parameters: {'clf__max_depth': 6, 'clf__max_features': 'log2', 'clf__min_samples_leaf': 6, 'clf__min_samples_split': 75, 'clf__n_estimators': 881}\n",
      "\n",
      "Accuracy: 73.3%\n",
      "F1 Score: 0.048192771084337345\n"
     ]
    }
   ],
   "source": [
    "# Print Result Report\n",
    "report(random_search.cv_results_)\n",
    "y_pred = random_search.predict(test_X)\n",
    "\n",
    "# Measure Accuracy & F1Score\n",
    "accuracy = accuracy_score(y_pred=y_pred, y_true=test_y)\n",
    "print('Accuracy: {:03.1f}%'.format(accuracy * 100))\n",
    "print('F1 Score:', f1_score(y_pred=y_pred, y_true=test_y))"
   ]
  }
 ],
 "metadata": {
  "kernelspec": {
   "display_name": "Python 3",
   "language": "python",
   "name": "python3"
  },
  "language_info": {
   "codemirror_mode": {
    "name": "ipython",
    "version": 3
   },
   "file_extension": ".py",
   "mimetype": "text/x-python",
   "name": "python",
   "nbconvert_exporter": "python",
   "pygments_lexer": "ipython3",
   "version": "3.6.2"
  }
 },
 "nbformat": 4,
 "nbformat_minor": 2
}
